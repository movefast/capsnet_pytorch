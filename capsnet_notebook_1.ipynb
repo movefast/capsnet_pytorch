{
 "cells": [
  {
   "cell_type": "markdown",
   "metadata": {},
   "source": [
    "## Imports"
   ]
  },
  {
   "cell_type": "code",
   "execution_count": 1,
   "metadata": {
    "collapsed": true
   },
   "outputs": [],
   "source": [
    "import torch\n",
    "import torch.nn.functional as F\n",
    "from torch import nn\n",
    "import numpy as np\n",
    "from torch.autograd import Variable\n",
    "import torchvision.datasets as dsets\n",
    "import torchvision.transforms as transforms"
   ]
  },
  {
   "cell_type": "code",
   "execution_count": 2,
   "metadata": {
    "collapsed": true
   },
   "outputs": [],
   "source": [
    "%matplotlib inline\n",
    "import matplotlib\n",
    "import matplotlib.pyplot as plt"
   ]
  },
  {
   "cell_type": "code",
   "execution_count": 3,
   "metadata": {
    "collapsed": true
   },
   "outputs": [],
   "source": [
    "# Hyper Parameters \n",
    "input_size = 784\n",
    "hidden_size = 500\n",
    "num_classes = 10\n",
    "num_epochs = 5\n",
    "batch_size = 16\n",
    "learning_rate = 0.001"
   ]
  },
  {
   "cell_type": "markdown",
   "metadata": {},
   "source": [
    "## Load MNIST"
   ]
  },
  {
   "cell_type": "code",
   "execution_count": 4,
   "metadata": {
    "collapsed": true
   },
   "outputs": [],
   "source": [
    "# MNIST Dataset \n",
    "train_dataset = dsets.MNIST(\n",
    "    root='./data', \n",
    "    train=True, \n",
    "    transform=transforms.ToTensor(),  \n",
    "    download=True,\n",
    ")\n",
    "\n",
    "test_dataset = dsets.MNIST(\n",
    "    root='./data', \n",
    "    train=False, \n",
    "    transform=transforms.ToTensor(),\n",
    ")\n",
    "# Data Loader (Input Pipeline)\n",
    "train_loader = torch.utils.data.DataLoader(dataset=train_dataset,\n",
    "                                           batch_size=batch_size, \n",
    "                                           shuffle=True)\n",
    "\n",
    "test_loader = torch.utils.data.DataLoader(dataset=test_dataset,\n",
    "                                          batch_size=batch_size, \n",
    "                                          shuffle=False)"
   ]
  },
  {
   "cell_type": "code",
   "execution_count": 5,
   "metadata": {},
   "outputs": [
    {
     "name": "stderr",
     "output_type": "stream",
     "text": [
      "/home/derek/anaconda3/envs/pytorch/lib/python3.6/site-packages/torchvision-0.2.0-py3.6.egg/torchvision/transforms/transforms.py:156: UserWarning: The use of the transforms.Scale transform is deprecated, please use transforms.Resize instead.\n"
     ]
    },
    {
     "data": {
      "image/png": "[encoded data removed]",
      "text/plain": [
       "<matplotlib.figure.Figure at 0x7f46dee0a3c8>"
      ]
     },
     "metadata": {},
     "output_type": "display_data"
    }
   ],
   "source": [
    "n_samples = 5\n",
    "\n",
    "plt.figure(figsize=(n_samples * 2, 3))\n",
    "for index in range(n_samples):\n",
    "    plt.subplot(1, n_samples, index + 1)\n",
    "    sample_image = transforms.Compose([transforms.ToPILImage(), transforms.Scale(28)])(train_dataset[index][0])\n",
    "    plt.imshow(sample_image, cmap=\"binary\")\n",
    "    plt.axis(\"off\")\n",
    "\n",
    "plt.show()"
   ]
  },
  {
   "cell_type": "code",
   "execution_count": 6,
   "metadata": {},
   "outputs": [
    {
     "data": {
      "text/plain": [
       "torch.Size([60000, 28, 28])"
      ]
     },
     "execution_count": 6,
     "metadata": {},
     "output_type": "execute_result"
    }
   ],
   "source": [
    "train_dataset.train_data.shape"
   ]
  },
  {
   "cell_type": "code",
   "execution_count": 7,
   "metadata": {},
   "outputs": [
    {
     "data": {
      "text/plain": [
       "\n",
       " 5\n",
       " 0\n",
       " 4\n",
       " 1\n",
       " 9\n",
       "[torch.LongTensor of size 5]"
      ]
     },
     "execution_count": 7,
     "metadata": {},
     "output_type": "execute_result"
    }
   ],
   "source": [
    "train_dataset.train_labels[:n_samples]"
   ]
  },
  {
   "cell_type": "markdown",
   "metadata": {},
   "source": [
    "## Primary Capsules"
   ]
  },
  {
   "cell_type": "code",
   "execution_count": 8,
   "metadata": {
    "collapsed": true
   },
   "outputs": [],
   "source": [
    "caps1_n_maps = 32\n",
    "caps1_n_caps = caps1_n_maps * 6 * 6  # 1152 primary capsules\n",
    "caps1_n_dims = 8"
   ]
  },
  {
   "cell_type": "code",
   "execution_count": 9,
   "metadata": {
    "collapsed": true
   },
   "outputs": [],
   "source": [
    "feature_size = caps1_n_maps * caps1_n_dims\n",
    "layer = nn.Sequential(\n",
    "    nn.Conv2d(1, feature_size, kernel_size=9),\n",
    "    nn.BatchNorm2d(feature_size),\n",
    "    nn.ReLU(),\n",
    "    nn.Conv2d(feature_size, feature_size, kernel_size=9, stride=2),\n",
    "    nn.BatchNorm2d(feature_size),\n",
    "    nn.ReLU(),\n",
    ")"
   ]
  },
  {
   "cell_type": "code",
   "execution_count": 10,
   "metadata": {
    "collapsed": true
   },
   "outputs": [],
   "source": [
    "train_loader = torch.utils.data.DataLoader(dataset=train_dataset,\n",
    "                                           batch_size=1, \n",
    "                                           shuffle=True)"
   ]
  },
  {
   "cell_type": "code",
   "execution_count": 11,
   "metadata": {
    "collapsed": true
   },
   "outputs": [],
   "source": [
    "# When iteration starts, queue and thread start to load dataset from files.\n",
    "data_iter = iter(train_loader)\n",
    "\n",
    "# Mini-batch images and labels.\n",
    "images, labels = data_iter.next()"
   ]
  },
  {
   "cell_type": "code",
   "execution_count": 12,
   "metadata": {},
   "outputs": [
    {
     "data": {
      "text/plain": [
       "\n",
       "(0 ,0 ,.,.) = \n",
       "\n",
       "Columns 0 to 8 \n",
       "   0.0000  0.0000  0.0000  0.0000  0.0000  0.0000  0.0000  0.0000  0.0000\n",
       "  0.0000  0.0000  0.0000  0.0000  0.0000  0.0000  0.0000  0.0000  0.0000\n",
       "  0.0000  0.0000  0.0000  0.0000  0.0000  0.0000  0.0000  0.0000  0.0000\n",
       "  0.0000  0.0000  0.0000  0.0000  0.0000  0.0000  0.0000  0.0000  0.0000\n",
       "  0.0000  0.0000  0.0000  0.0000  0.0000  0.0000  0.0000  0.0000  0.0000\n",
       "  0.0000  0.0000  0.0000  0.0000  0.0000  0.0000  0.0000  0.0000  0.0000\n",
       "  0.0000  0.0000  0.0000  0.0000  0.0000  0.0000  0.0000  0.0000  0.0000\n",
       "  0.0000  0.0000  0.0000  0.0000  0.0000  0.0000  0.0000  0.0000  0.0000\n",
       "  0.0000  0.0000  0.0000  0.0000  0.0000  0.0000  0.0000  0.0000  0.0000\n",
       "  0.0000  0.0000  0.0000  0.0000  0.0000  0.0000  0.0000  0.0000  0.0000\n",
       "  0.0000  0.0000  0.0000  0.0000  0.0000  0.0000  0.0000  0.2510  0.7490\n",
       "  0.0000  0.0000  0.0000  0.0000  0.0000  0.0000  0.0000  1.0000  1.0000\n",
       "  0.0000  0.0000  0.0000  0.0000  0.0000  0.0000  0.2510  1.0000  1.0000\n",
       "  0.0000  0.0000  0.0000  0.0000  0.0000  0.0000  0.7490  1.0000  1.0000\n",
       "  0.0000  0.0000  0.0000  0.0000  0.0000  0.0000  1.0000  1.0000  1.0000\n",
       "  0.0000  0.0000  0.0000  0.0000  0.0000  0.0000  1.0000  1.0000  1.0000\n",
       "  0.0000  0.0000  0.0000  0.0000  0.0000  0.0000  1.0000  1.0000  1.0000\n",
       "  0.0000  0.0000  0.0000  0.0000  0.0000  0.0000  0.2510  1.0000  1.0000\n",
       "  0.0000  0.0000  0.0000  0.0000  0.0000  0.0000  0.0000  0.0000  0.5020\n",
       "  0.0000  0.0000  0.0000  0.0000  0.0000  0.0000  0.0000  0.0000  0.0000\n",
       "  0.0000  0.0000  0.0000  0.0000  0.0000  0.0000  0.0000  0.0000  0.5020\n",
       "  0.0000  0.0000  0.0000  0.0000  0.0000  0.0000  0.0000  0.0000  0.7490\n",
       "  0.0000  0.0000  0.0000  0.0000  0.0000  0.0000  0.0000  0.0000  0.5020\n",
       "  0.0000  0.0000  0.0000  0.0000  0.0000  0.0000  0.0000  0.0000  0.0000\n",
       "  0.0000  0.0000  0.0000  0.0000  0.0000  0.0000  0.0000  0.0000  0.0000\n",
       "  0.0000  0.0000  0.0000  0.0000  0.0000  0.0000  0.0000  0.0000  0.0000\n",
       "  0.0000  0.0000  0.0000  0.0000  0.0000  0.0000  0.0000  0.0000  0.0000\n",
       "  0.0000  0.0000  0.0000  0.0000  0.0000  0.0000  0.0000  0.0000  0.0000\n",
       "\n",
       "Columns 9 to 17 \n",
       "   0.0000  0.0000  0.0000  0.0000  0.0000  0.0000  0.0000  0.0000  0.0000\n",
       "  0.0000  0.0000  0.0000  0.0000  0.0000  0.0000  0.0000  0.0000  0.0000\n",
       "  0.0000  0.0000  0.0000  0.0000  0.0000  0.0000  0.0000  0.0000  0.0000\n",
       "  0.0000  0.0000  0.0000  0.0000  0.0000  0.0000  0.0000  0.0000  0.0000\n",
       "  0.0000  0.0000  0.0000  0.0000  0.0000  0.0000  0.0000  0.0000  0.0000\n",
       "  0.0000  0.0000  0.0000  0.0000  0.0000  0.0000  0.0000  0.0000  0.0000\n",
       "  0.0000  0.0000  0.0000  0.0000  0.0000  0.0000  0.0000  0.0000  0.2510\n",
       "  0.0000  0.0000  0.2510  0.2510  0.0000  0.0000  0.0000  0.2510  1.0000\n",
       "  0.0000  0.0000  0.7490  1.0000  0.0000  0.0000  0.0000  1.0000  1.0000\n",
       "  0.7490  1.0000  1.0000  0.5020  0.0000  0.0000  0.2510  1.0000  1.0000\n",
       "  1.0000  1.0000  0.2510  0.0000  0.0000  0.2510  1.0000  1.0000  1.0000\n",
       "  1.0000  0.5020  0.0000  0.0000  0.0000  0.7490  1.0000  1.0000  0.7490\n",
       "  1.0000  0.0000  0.0000  0.0000  1.0000  1.0000  1.0000  1.0000  0.2510\n",
       "  0.5020  0.0000  0.0000  0.5020  1.0000  1.0000  1.0000  0.2510  0.0000\n",
       "  0.2510  0.0000  0.2510  1.0000  1.0000  1.0000  0.2510  0.0000  0.0000\n",
       "  0.7490  0.5020  0.7490  1.0000  1.0000  0.5020  0.0000  0.0000  0.0000\n",
       "  1.0000  1.0000  1.0000  1.0000  1.0000  1.0000  1.0000  1.0000  1.0000\n",
       "  1.0000  1.0000  1.0000  1.0000  1.0000  1.0000  1.0000  1.0000  1.0000\n",
       "  1.0000  1.0000  1.0000  1.0000  1.0000  1.0000  1.0000  1.0000  1.0000\n",
       "  1.0000  1.0000  1.0000  0.2510  0.0000  0.0000  0.0000  0.0000  0.0000\n",
       "  1.0000  1.0000  1.0000  0.0000  0.0000  0.0000  0.0000  0.0000  0.0000\n",
       "  1.0000  1.0000  0.7490  0.0000  0.0000  0.0000  0.0000  0.0000  0.0000\n",
       "  1.0000  1.0000  0.5020  0.0000  0.0000  0.0000  0.0000  0.0000  0.0000\n",
       "  0.5020  0.5020  0.0000  0.0000  0.0000  0.0000  0.0000  0.0000  0.0000\n",
       "  0.0000  0.0000  0.0000  0.0000  0.0000  0.0000  0.0000  0.0000  0.0000\n",
       "  0.0000  0.0000  0.0000  0.0000  0.0000  0.0000  0.0000  0.0000  0.0000\n",
       "  0.0000  0.0000  0.0000  0.0000  0.0000  0.0000  0.0000  0.0000  0.0000\n",
       "  0.0000  0.0000  0.0000  0.0000  0.0000  0.0000  0.0000  0.0000  0.0000\n",
       "\n",
       "Columns 18 to 26 \n",
       "   0.0000  0.0000  0.0000  0.0000  0.0000  0.0000  0.0000  0.0000  0.0000\n",
       "  0.0000  0.0000  0.0000  0.0000  0.0000  0.0000  0.0000  0.0000  0.0000\n",
       "  0.0000  0.0000  0.0000  0.0000  0.0000  0.0000  0.0000  0.0000  0.0000\n",
       "  0.0000  0.0000  0.0000  0.0000  0.0000  0.0000  0.0000  0.0000  0.0000\n",
       "  0.0000  0.2510  0.5020  1.0000  0.5020  0.0000  0.0000  0.0000  0.0000\n",
       "  0.2510  1.0000  1.0000  1.0000  0.5020  0.0000  0.0000  0.0000  0.0000\n",
       "  1.0000  1.0000  1.0000  0.7490  0.0000  0.0000  0.0000  0.0000  0.0000\n",
       "  1.0000  1.0000  0.5020  0.0000  0.0000  0.0000  0.0000  0.0000  0.0000\n",
       "  1.0000  1.0000  0.0000  0.0000  0.0000  0.0000  0.0000  0.0000  0.0000\n",
       "  1.0000  0.0000  0.0000  0.0000  0.0000  0.0000  0.0000  0.0000  0.0000\n",
       "  0.5020  0.0000  0.0000  0.0000  0.0000  0.0000  0.0000  0.0000  0.0000\n",
       "  0.0000  0.0000  0.0000  0.0000  0.0000  0.0000  0.0000  0.0000  0.0000\n",
       "  0.0000  0.0000  0.0000  0.0000  0.0000  0.0000  0.0000  0.0000  0.0000\n",
       "  0.0000  0.0000  0.0000  0.0000  0.0000  0.0000  0.0000  0.0000  0.0000\n",
       "  0.0000  0.0000  0.0000  0.0000  0.0000  0.5020  0.5020  0.0000  0.0000\n",
       "  0.5020  0.5020  0.5020  0.5020  1.0000  1.0000  1.0000  0.5020  0.0000\n",
       "  1.0000  1.0000  1.0000  1.0000  1.0000  1.0000  1.0000  1.0000  0.0000\n",
       "  1.0000  1.0000  1.0000  1.0000  1.0000  1.0000  0.7490  0.2510  0.0000\n",
       "  1.0000  0.7490  0.5020  0.5020  0.0000  0.0000  0.0000  0.0000  0.0000\n",
       "  0.0000  0.0000  0.0000  0.0000  0.0000  0.0000  0.0000  0.0000  0.0000\n",
       "  0.0000  0.0000  0.0000  0.0000  0.0000  0.0000  0.0000  0.0000  0.0000\n",
       "  0.0000  0.0000  0.0000  0.0000  0.0000  0.0000  0.0000  0.0000  0.0000\n",
       "  0.0000  0.0000  0.0000  0.0000  0.0000  0.0000  0.0000  0.0000  0.0000\n",
       "  0.0000  0.0000  0.0000  0.0000  0.0000  0.0000  0.0000  0.0000  0.0000\n",
       "  0.0000  0.0000  0.0000  0.0000  0.0000  0.0000  0.0000  0.0000  0.0000\n",
       "  0.0000  0.0000  0.0000  0.0000  0.0000  0.0000  0.0000  0.0000  0.0000\n",
       "  0.0000  0.0000  0.0000  0.0000  0.0000  0.0000  0.0000  0.0000  0.0000\n",
       "  0.0000  0.0000  0.0000  0.0000  0.0000  0.0000  0.0000  0.0000  0.0000\n",
       "\n",
       "Columns 27 to 27 \n",
       "   0.0000\n",
       "  0.0000\n",
       "  0.0000\n",
       "  0.0000\n",
       "  0.0000\n",
       "  0.0000\n",
       "  0.0000\n",
       "  0.0000\n",
       "  0.0000\n",
       "  0.0000\n",
       "  0.0000\n",
       "  0.0000\n",
       "  0.0000\n",
       "  0.0000\n",
       "  0.0000\n",
       "  0.0000\n",
       "  0.0000\n",
       "  0.0000\n",
       "  0.0000\n",
       "  0.0000\n",
       "  0.0000\n",
       "  0.0000\n",
       "  0.0000\n",
       "  0.0000\n",
       "  0.0000\n",
       "  0.0000\n",
       "  0.0000\n",
       "  0.0000\n",
       "[torch.FloatTensor of size 1x1x28x28]"
      ]
     },
     "execution_count": 12,
     "metadata": {},
     "output_type": "execute_result"
    }
   ],
   "source": [
    "images"
   ]
  },
  {
   "cell_type": "code",
   "execution_count": 13,
   "metadata": {
    "collapsed": true
   },
   "outputs": [],
   "source": [
    "example_image = Variable(images)"
   ]
  },
  {
   "cell_type": "code",
   "execution_count": 14,
   "metadata": {
    "collapsed": true
   },
   "outputs": [],
   "source": [
    "x = layer(example_image)"
   ]
  },
  {
   "cell_type": "code",
   "execution_count": 15,
   "metadata": {},
   "outputs": [
    {
     "data": {
      "text/plain": [
       "Variable containing:\n",
       "( 0  ,.,.) = \n",
       "  0.0000  0.0000  0.0000  ...   0.0000  0.1686  0.0000\n",
       "  0.0000  0.0000  0.0000  ...   0.0000  0.0853  0.3195\n",
       "  0.0000  0.7998  0.0000  ...   0.0000  0.1497  0.0000\n",
       "           ...             ⋱             ...          \n",
       "  0.0978  0.0000  0.0206  ...   0.0000  0.0000  0.0705\n",
       "  0.0000  0.0000  0.0000  ...   0.0000  0.0000  0.0000\n",
       "  0.0000  0.0000  0.0000  ...   0.0000  0.0000  0.0000\n",
       "[torch.FloatTensor of size 1x1152x8]"
      ]
     },
     "execution_count": 15,
     "metadata": {},
     "output_type": "execute_result"
    }
   ],
   "source": [
    "x = x.view(-1, caps1_n_caps, caps1_n_dims)\n",
    "x"
   ]
  },
  {
   "cell_type": "code",
   "execution_count": 16,
   "metadata": {
    "collapsed": true
   },
   "outputs": [],
   "source": [
    "def squash(tensor, dim=-1, epsilon=1e-7):\n",
    "    squared_norm = (tensor ** 2).sum(dim=dim, keepdim=True)\n",
    "    safe_norm = torch.sqrt(squared_norm + epsilon)\n",
    "    scale = squared_norm / (1 + squared_norm)\n",
    "    return scale * tensor / safe_norm"
   ]
  },
  {
   "cell_type": "code",
   "execution_count": 17,
   "metadata": {},
   "outputs": [
    {
     "data": {
      "text/plain": [
       "Variable containing:\n",
       "( 0  ,.,.) = \n",
       "  0.0000  0.0000  0.0000  ...   0.0000  0.0360  0.0000\n",
       "  0.0000  0.0000  0.0000  ...   0.0000  0.0254  0.0953\n",
       "  0.0000  0.3790  0.0000  ...   0.0000  0.0709  0.0000\n",
       "           ...             ⋱             ...          \n",
       "  0.0408  0.0000  0.0086  ...   0.0000  0.0000  0.0295\n",
       "  0.0000  0.0000  0.0000  ...   0.0000  0.0000  0.0000\n",
       "  0.0000  0.0000  0.0000  ...   0.0000  0.0000  0.0000\n",
       "[torch.FloatTensor of size 1x1152x8]"
      ]
     },
     "execution_count": 17,
     "metadata": {},
     "output_type": "execute_result"
    }
   ],
   "source": [
    "x = squash(x)\n",
    "x"
   ]
  },
  {
   "cell_type": "markdown",
   "metadata": {},
   "source": [
    "## Digit Capsules"
   ]
  },
  {
   "cell_type": "markdown",
   "metadata": {},
   "source": [
    "## Compute the Predicted Output Vectors"
   ]
  },
  {
   "cell_type": "code",
   "execution_count": 8,
   "metadata": {
    "collapsed": true
   },
   "outputs": [],
   "source": [
    "caps2_n_caps = 10\n",
    "caps2_n_dims = 16"
   ]
  },
  {
   "cell_type": "code",
   "execution_count": 19,
   "metadata": {},
   "outputs": [
    {
     "name": "stdout",
     "output_type": "stream",
     "text": [
      "torch.Size([1, 1152, 10, 16, 8])\n"
     ]
    }
   ],
   "source": [
    "init_sigma = 0.01\n",
    "W_init = torch.Tensor(1, caps1_n_caps, caps2_n_caps, caps2_n_dims, caps1_n_dims)\n",
    "W_init = Variable(W_init.normal_(std=init_sigma))\n",
    "print(W_init.size())"
   ]
  },
  {
   "cell_type": "code",
   "execution_count": 20,
   "metadata": {},
   "outputs": [
    {
     "name": "stdout",
     "output_type": "stream",
     "text": [
      "torch.Size([1, 1152, 10, 8, 1])\n"
     ]
    }
   ],
   "source": [
    "x = x[:,:,None,:,None].repeat(1,1,10,1,1)\n",
    "print(x.size())"
   ]
  },
  {
   "cell_type": "code",
   "execution_count": 21,
   "metadata": {},
   "outputs": [
    {
     "name": "stdout",
     "output_type": "stream",
     "text": [
      "torch.Size([1, 1152, 10, 16, 1])\n"
     ]
    }
   ],
   "source": [
    "caps2_predicted = W_init @ x\n",
    "print(caps2_predicted.size())"
   ]
  },
  {
   "cell_type": "markdown",
   "metadata": {},
   "source": [
    "## Routing by agreement"
   ]
  },
  {
   "cell_type": "code",
   "execution_count": 22,
   "metadata": {},
   "outputs": [
    {
     "name": "stdout",
     "output_type": "stream",
     "text": [
      "torch.Size([1, 1152, 10, 1, 1])\n"
     ]
    }
   ],
   "source": [
    "raw_weights = Variable(torch.zeros(1, caps1_n_caps, caps2_n_caps, 1, 1))\n",
    "print(raw_weights.shape)"
   ]
  },
  {
   "cell_type": "markdown",
   "metadata": {},
   "source": [
    "### Round 1"
   ]
  },
  {
   "cell_type": "code",
   "execution_count": 23,
   "metadata": {
    "collapsed": true
   },
   "outputs": [],
   "source": [
    "import torch.nn.functional as F"
   ]
  },
  {
   "cell_type": "code",
   "execution_count": 24,
   "metadata": {},
   "outputs": [
    {
     "name": "stdout",
     "output_type": "stream",
     "text": [
      "torch.Size([1, 1152, 10, 1, 1])\n"
     ]
    }
   ],
   "source": [
    "routing_weights = F.softmax(raw_weights,dim=2)\n",
    "print(routing_weights.shape)"
   ]
  },
  {
   "cell_type": "code",
   "execution_count": 25,
   "metadata": {},
   "outputs": [
    {
     "name": "stdout",
     "output_type": "stream",
     "text": [
      "torch.Size([1, 1152, 10, 16, 1])\n"
     ]
    }
   ],
   "source": [
    "weighted_predictions = routing_weights * caps2_predicted\n",
    "print(weighted_predictions.shape)"
   ]
  },
  {
   "cell_type": "code",
   "execution_count": 26,
   "metadata": {},
   "outputs": [
    {
     "name": "stdout",
     "output_type": "stream",
     "text": [
      "torch.Size([1, 1, 10, 16, 1])\n"
     ]
    }
   ],
   "source": [
    "weighted_sum = weighted_predictions.sum(dim=1, keepdim=True)\n",
    "print(weighted_sum.shape)"
   ]
  },
  {
   "cell_type": "code",
   "execution_count": 27,
   "metadata": {
    "collapsed": true
   },
   "outputs": [],
   "source": [
    "caps2_output_round_1 = squash(weighted_sum, dim=-2)"
   ]
  },
  {
   "cell_type": "markdown",
   "metadata": {},
   "source": [
    "### Round 2"
   ]
  },
  {
   "cell_type": "code",
   "execution_count": 28,
   "metadata": {},
   "outputs": [
    {
     "name": "stdout",
     "output_type": "stream",
     "text": [
      "torch.Size([1, 1152, 10, 16, 1])\n"
     ]
    }
   ],
   "source": [
    "caps2_output_round_1_tiled = caps2_output_round_1.repeat(1, caps1_n_caps, 1, 1, 1)\n",
    "print(caps2_output_round_1_tiled.shape) "
   ]
  },
  {
   "cell_type": "code",
   "execution_count": 29,
   "metadata": {},
   "outputs": [
    {
     "name": "stdout",
     "output_type": "stream",
     "text": [
      "torch.Size([1, 1152, 10, 1, 1])\n"
     ]
    }
   ],
   "source": [
    "agreement = caps2_predicted.transpose(-1, -2) @ caps2_output_round_1_tiled\n",
    "print(agreement.shape)"
   ]
  },
  {
   "cell_type": "code",
   "execution_count": 30,
   "metadata": {},
   "outputs": [
    {
     "name": "stdout",
     "output_type": "stream",
     "text": [
      "torch.Size([1, 1152, 10, 1, 1])\n"
     ]
    }
   ],
   "source": [
    "raw_weights_round_2 = raw_weights + agreement\n",
    "print(raw_weights_round_2.shape)"
   ]
  },
  {
   "cell_type": "code",
   "execution_count": 31,
   "metadata": {},
   "outputs": [
    {
     "name": "stdout",
     "output_type": "stream",
     "text": [
      "torch.Size([1, 1152, 10, 1, 1])\n"
     ]
    }
   ],
   "source": [
    "routing_weights_round_2 = F.softmax(raw_weights_round_2,dim=2)\n",
    "print(routing_weights_round_2.shape)"
   ]
  },
  {
   "cell_type": "code",
   "execution_count": 32,
   "metadata": {},
   "outputs": [
    {
     "name": "stdout",
     "output_type": "stream",
     "text": [
      "torch.Size([1, 1152, 10, 1, 1])\n"
     ]
    }
   ],
   "source": [
    "weighted_predictions_round_2 = routing_weights_round_2 * caps2_predicted\n",
    "print(routing_weights_round_2.shape)"
   ]
  },
  {
   "cell_type": "code",
   "execution_count": 33,
   "metadata": {},
   "outputs": [
    {
     "name": "stdout",
     "output_type": "stream",
     "text": [
      "torch.Size([1, 1, 10, 16, 1])\n"
     ]
    }
   ],
   "source": [
    "weighted_sum_round_2 = weighted_predictions_round_2.sum(dim=1, keepdim=True)\n",
    "print(weighted_sum_round_2.shape)"
   ]
  },
  {
   "cell_type": "code",
   "execution_count": 34,
   "metadata": {
    "collapsed": true
   },
   "outputs": [],
   "source": [
    "caps2_output_round_2 = squash(weighted_sum_round_2, dim=-2)"
   ]
  },
  {
   "cell_type": "code",
   "execution_count": 35,
   "metadata": {
    "collapsed": true
   },
   "outputs": [],
   "source": [
    "caps2_output = caps2_output_round_2"
   ]
  },
  {
   "cell_type": "markdown",
   "metadata": {},
   "source": [
    "## Estimated Class Probabilities (Length)"
   ]
  },
  {
   "cell_type": "code",
   "execution_count": 36,
   "metadata": {
    "collapsed": true
   },
   "outputs": [],
   "source": [
    "def safe_norm(tensor, dim=-1, epsilon=1e-7, keepdim=False):\n",
    "    squared_norm = (tensor ** 2).sum(dim=dim, keepdim=True)\n",
    "    return torch.sqrt(squared_norm + epsilon)"
   ]
  },
  {
   "cell_type": "code",
   "execution_count": 37,
   "metadata": {},
   "outputs": [
    {
     "name": "stdout",
     "output_type": "stream",
     "text": [
      "torch.Size([1, 1, 10, 1, 1])\n"
     ]
    }
   ],
   "source": [
    "y_proba = safe_norm(caps2_output, dim=-2)\n",
    "print(y_proba.shape)"
   ]
  },
  {
   "cell_type": "code",
   "execution_count": 38,
   "metadata": {},
   "outputs": [
    {
     "data": {
      "text/plain": [
       "torch.Size([1, 1, 1, 1])"
      ]
     },
     "execution_count": 38,
     "metadata": {},
     "output_type": "execute_result"
    }
   ],
   "source": [
    "y_proba_argmax = torch.max(y_proba, dim=2)[1]\n",
    "y_proba_argmax.shape"
   ]
  },
  {
   "cell_type": "code",
   "execution_count": 39,
   "metadata": {},
   "outputs": [
    {
     "data": {
      "text/plain": [
       "torch.Size([1])"
      ]
     },
     "execution_count": 39,
     "metadata": {},
     "output_type": "execute_result"
    }
   ],
   "source": [
    "y_pred = torch.squeeze(y_proba_argmax)\n",
    "y_pred.shape"
   ]
  },
  {
   "cell_type": "markdown",
   "metadata": {},
   "source": [
    "## Labels"
   ]
  },
  {
   "cell_type": "code",
   "execution_count": 40,
   "metadata": {},
   "outputs": [
    {
     "data": {
      "text/plain": [
       "\n",
       " 4\n",
       "[torch.FloatTensor of size 1]"
      ]
     },
     "execution_count": 40,
     "metadata": {},
     "output_type": "execute_result"
    }
   ],
   "source": [
    "y = labels.float()\n",
    "y"
   ]
  },
  {
   "cell_type": "markdown",
   "metadata": {},
   "source": [
    "## Margin loss"
   ]
  },
  {
   "cell_type": "code",
   "execution_count": 41,
   "metadata": {
    "collapsed": true
   },
   "outputs": [],
   "source": [
    "m_plus = 0.9\n",
    "m_minus = 0.1\n",
    "lambda_ = 0.5"
   ]
  },
  {
   "cell_type": "code",
   "execution_count": 42,
   "metadata": {
    "collapsed": true
   },
   "outputs": [],
   "source": [
    "T = Variable(torch.eye(num_classes).index_select(dim=0, index=labels))\n",
    "# T = torch.Tensor(batch_size, num_classes).scatter_(1, torch.LongTensor(labels)[:,None],1)"
   ]
  },
  {
   "cell_type": "code",
   "execution_count": 43,
   "metadata": {},
   "outputs": [
    {
     "data": {
      "text/plain": [
       "Variable containing:\n",
       "(0 ,0 ,0 ,.,.) = \n",
       "1.00000e-03 *\n",
       "  -0.2325\n",
       "  -0.3222\n",
       "   2.9180\n",
       "  -0.1554\n",
       "   0.9319\n",
       "  -0.6061\n",
       "  -2.4007\n",
       "   0.8849\n",
       "  -0.5356\n",
       "   0.5044\n",
       "  -2.3594\n",
       "   3.0347\n",
       "   2.1489\n",
       "  -0.4929\n",
       "   1.9136\n",
       "   0.6000\n",
       "\n",
       "(0 ,0 ,1 ,.,.) = \n",
       "1.00000e-03 *\n",
       "  -1.2087\n",
       "   1.8070\n",
       "   0.8415\n",
       "  -0.3420\n",
       "  -0.4328\n",
       "  -1.6493\n",
       "   2.3560\n",
       "   0.9145\n",
       "  -0.3877\n",
       "   0.9408\n",
       "   0.4515\n",
       "  -1.0223\n",
       "  -1.0542\n",
       "   0.8221\n",
       "  -0.4048\n",
       "  -0.7833\n",
       "\n",
       "(0 ,0 ,2 ,.,.) = \n",
       "1.00000e-03 *\n",
       "   1.0503\n",
       "   1.3430\n",
       "   0.5619\n",
       "  -1.2391\n",
       "   0.8155\n",
       "  -0.5785\n",
       "  -0.6234\n",
       "   0.6751\n",
       "  -0.5354\n",
       "  -0.8307\n",
       "   0.4379\n",
       "   0.2040\n",
       "  -0.4175\n",
       "  -0.1044\n",
       "  -0.1206\n",
       "  -0.7733\n",
       "\n",
       "(0 ,0 ,3 ,.,.) = \n",
       "1.00000e-03 *\n",
       "   1.2199\n",
       "  -0.7606\n",
       "   0.8090\n",
       "  -0.1018\n",
       "  -0.9332\n",
       "   0.4343\n",
       "   0.9381\n",
       "   0.5927\n",
       "  -0.4354\n",
       "   0.8690\n",
       "   0.1962\n",
       "   0.7631\n",
       "  -0.4178\n",
       "   1.1347\n",
       "  -0.6458\n",
       "  -2.1344\n",
       "\n",
       "(0 ,0 ,4 ,.,.) = \n",
       "1.00000e-03 *\n",
       "   1.7153\n",
       "   1.2189\n",
       "   0.1188\n",
       "  -0.0064\n",
       "   1.5830\n",
       "  -0.0556\n",
       "  -0.8988\n",
       "  -0.4481\n",
       "   0.1761\n",
       "  -0.8921\n",
       "   0.2861\n",
       "   1.2341\n",
       "   0.3663\n",
       "  -0.0960\n",
       "   0.1012\n",
       "   0.0134\n",
       "\n",
       "(0 ,0 ,5 ,.,.) = \n",
       "1.00000e-03 *\n",
       "   1.1028\n",
       "  -0.1683\n",
       "  -0.2558\n",
       "   0.4930\n",
       "   0.0839\n",
       "   1.0521\n",
       "  -0.2528\n",
       "   0.3408\n",
       "  -0.6340\n",
       "  -0.3185\n",
       "   0.0609\n",
       "  -1.0868\n",
       "   0.7869\n",
       "  -0.2020\n",
       "   0.3607\n",
       "  -0.1085\n",
       "\n",
       "(0 ,0 ,6 ,.,.) = \n",
       "1.00000e-03 *\n",
       "  -0.9085\n",
       "   1.4053\n",
       "   1.6581\n",
       "   0.7580\n",
       "   0.4446\n",
       "   2.6634\n",
       "   1.6496\n",
       "   0.8845\n",
       "   0.6686\n",
       "   0.5713\n",
       "   0.4919\n",
       "  -0.4420\n",
       "   3.2192\n",
       "  -0.4178\n",
       "   0.0310\n",
       "   0.7007\n",
       "\n",
       "(0 ,0 ,7 ,.,.) = \n",
       "1.00000e-03 *\n",
       "   2.6674\n",
       "  -1.4964\n",
       "   3.4523\n",
       "  -1.6240\n",
       "  -0.4877\n",
       "   1.8780\n",
       "   2.2015\n",
       "   1.4018\n",
       "  -0.8825\n",
       "  -1.2835\n",
       "   0.7362\n",
       "  -1.4173\n",
       "   2.6146\n",
       "  -0.8756\n",
       "  -1.5676\n",
       "   5.0105\n",
       "\n",
       "(0 ,0 ,8 ,.,.) = \n",
       "1.00000e-03 *\n",
       "  -0.3784\n",
       "  -3.5465\n",
       "   1.7903\n",
       "  -0.3417\n",
       "  -1.4393\n",
       "  -0.1108\n",
       "  -1.9371\n",
       "   1.2114\n",
       "   1.4068\n",
       "  -0.4046\n",
       "  -2.0201\n",
       "   0.2461\n",
       "   0.9743\n",
       "  -1.8156\n",
       "   1.6314\n",
       "   0.7479\n",
       "\n",
       "(0 ,0 ,9 ,.,.) = \n",
       "1.00000e-03 *\n",
       "   0.7837\n",
       "  -1.3934\n",
       "  -1.2871\n",
       "  -0.2153\n",
       "   0.4007\n",
       "  -0.7081\n",
       "   0.5920\n",
       "  -0.3616\n",
       "   0.0732\n",
       "   0.9178\n",
       "  -0.5516\n",
       "  -0.8659\n",
       "  -1.0159\n",
       "  -0.0704\n",
       "   0.3286\n",
       "   1.0754\n",
       "[torch.FloatTensor of size 1x1x10x16x1]"
      ]
     },
     "execution_count": 43,
     "metadata": {},
     "output_type": "execute_result"
    }
   ],
   "source": [
    "caps2_output"
   ]
  },
  {
   "cell_type": "code",
   "execution_count": 44,
   "metadata": {},
   "outputs": [
    {
     "data": {
      "text/plain": [
       "torch.Size([1, 1, 10, 1, 1])"
      ]
     },
     "execution_count": 44,
     "metadata": {},
     "output_type": "execute_result"
    }
   ],
   "source": [
    "caps2_output_norm = safe_norm(caps2_output, dim=-2, keepdim=True)\n",
    "caps2_output_norm.shape"
   ]
  },
  {
   "cell_type": "code",
   "execution_count": 45,
   "metadata": {},
   "outputs": [
    {
     "data": {
      "text/plain": [
       "Variable containing:\n",
       " 0.7985  0.8020  0.8047  0.8035  0.8041  0.8058  0.8003  0.7945  0.7991  0.8044\n",
       "[torch.FloatTensor of size 1x10]"
      ]
     },
     "execution_count": 45,
     "metadata": {},
     "output_type": "execute_result"
    }
   ],
   "source": [
    "#         reconstruction_loss = self.reconstruction_loss(reconstructions, images)\n",
    "\n",
    "#         return (margin_loss + 0.0005 * reconstruction_loss) / images.size(0)\n",
    "present_error_raw = F.relu(m_plus - caps2_output_norm, inplace=True) ** 2\n",
    "present_error = present_error_raw.view(-1, 10)\n",
    "present_error"
   ]
  },
  {
   "cell_type": "code",
   "execution_count": 46,
   "metadata": {},
   "outputs": [
    {
     "data": {
      "text/plain": [
       "Variable containing:\n",
       "    0     0     0     0     0     0     0     0     0     0\n",
       "[torch.FloatTensor of size 1x10]"
      ]
     },
     "execution_count": 46,
     "metadata": {},
     "output_type": "execute_result"
    }
   ],
   "source": [
    "absent_error_raw = F.relu(caps2_output_norm - m_minus, inplace=True) ** 2\n",
    "absent_error = absent_error_raw.view(-1, 10)\n",
    "absent_error"
   ]
  },
  {
   "cell_type": "code",
   "execution_count": 47,
   "metadata": {},
   "outputs": [
    {
     "data": {
      "text/plain": [
       "Variable containing:\n",
       " 0.0000  0.0000  0.0000  0.0000  0.8041  0.0000  0.0000  0.0000  0.0000  0.0000\n",
       "[torch.FloatTensor of size 1x10]"
      ]
     },
     "execution_count": 47,
     "metadata": {},
     "output_type": "execute_result"
    }
   ],
   "source": [
    "L = T * present_error + lambda_ * (1. - T) * absent_error\n",
    "L"
   ]
  },
  {
   "cell_type": "code",
   "execution_count": 49,
   "metadata": {},
   "outputs": [
    {
     "data": {
      "text/plain": [
       "Variable containing:\n",
       " 0.8041\n",
       "[torch.FloatTensor of size 1]"
      ]
     },
     "execution_count": 49,
     "metadata": {},
     "output_type": "execute_result"
    }
   ],
   "source": [
    "margin_loss = torch.mean(torch.sum(L))\n",
    "margin_loss "
   ]
  },
  {
   "cell_type": "markdown",
   "metadata": {},
   "source": [
    "## Reconstruction"
   ]
  },
  {
   "cell_type": "markdown",
   "metadata": {},
   "source": [
    "### Mask"
   ]
  },
  {
   "cell_type": "code",
   "execution_count": 50,
   "metadata": {},
   "outputs": [
    {
     "data": {
      "text/plain": [
       "Variable containing:\n",
       "(0 ,0 ,0 ,.,.) = \n",
       "1.00000e-03 *\n",
       "  -0.2325\n",
       "  -0.3222\n",
       "   2.9180\n",
       "  -0.1554\n",
       "   0.9319\n",
       "  -0.6061\n",
       "  -2.4007\n",
       "   0.8849\n",
       "  -0.5356\n",
       "   0.5044\n",
       "  -2.3594\n",
       "   3.0347\n",
       "   2.1489\n",
       "  -0.4929\n",
       "   1.9136\n",
       "   0.6000\n",
       "\n",
       "(0 ,0 ,1 ,.,.) = \n",
       "1.00000e-03 *\n",
       "  -1.2087\n",
       "   1.8070\n",
       "   0.8415\n",
       "  -0.3420\n",
       "  -0.4328\n",
       "  -1.6493\n",
       "   2.3560\n",
       "   0.9145\n",
       "  -0.3877\n",
       "   0.9408\n",
       "   0.4515\n",
       "  -1.0223\n",
       "  -1.0542\n",
       "   0.8221\n",
       "  -0.4048\n",
       "  -0.7833\n",
       "\n",
       "(0 ,0 ,2 ,.,.) = \n",
       "1.00000e-03 *\n",
       "   1.0503\n",
       "   1.3430\n",
       "   0.5619\n",
       "  -1.2391\n",
       "   0.8155\n",
       "  -0.5785\n",
       "  -0.6234\n",
       "   0.6751\n",
       "  -0.5354\n",
       "  -0.8307\n",
       "   0.4379\n",
       "   0.2040\n",
       "  -0.4175\n",
       "  -0.1044\n",
       "  -0.1206\n",
       "  -0.7733\n",
       "\n",
       "(0 ,0 ,3 ,.,.) = \n",
       "1.00000e-03 *\n",
       "   1.2199\n",
       "  -0.7606\n",
       "   0.8090\n",
       "  -0.1018\n",
       "  -0.9332\n",
       "   0.4343\n",
       "   0.9381\n",
       "   0.5927\n",
       "  -0.4354\n",
       "   0.8690\n",
       "   0.1962\n",
       "   0.7631\n",
       "  -0.4178\n",
       "   1.1347\n",
       "  -0.6458\n",
       "  -2.1344\n",
       "\n",
       "(0 ,0 ,4 ,.,.) = \n",
       "1.00000e-03 *\n",
       "   1.7153\n",
       "   1.2189\n",
       "   0.1188\n",
       "  -0.0064\n",
       "   1.5830\n",
       "  -0.0556\n",
       "  -0.8988\n",
       "  -0.4481\n",
       "   0.1761\n",
       "  -0.8921\n",
       "   0.2861\n",
       "   1.2341\n",
       "   0.3663\n",
       "  -0.0960\n",
       "   0.1012\n",
       "   0.0134\n",
       "\n",
       "(0 ,0 ,5 ,.,.) = \n",
       "1.00000e-03 *\n",
       "   1.1028\n",
       "  -0.1683\n",
       "  -0.2558\n",
       "   0.4930\n",
       "   0.0839\n",
       "   1.0521\n",
       "  -0.2528\n",
       "   0.3408\n",
       "  -0.6340\n",
       "  -0.3185\n",
       "   0.0609\n",
       "  -1.0868\n",
       "   0.7869\n",
       "  -0.2020\n",
       "   0.3607\n",
       "  -0.1085\n",
       "\n",
       "(0 ,0 ,6 ,.,.) = \n",
       "1.00000e-03 *\n",
       "  -0.9085\n",
       "   1.4053\n",
       "   1.6581\n",
       "   0.7580\n",
       "   0.4446\n",
       "   2.6634\n",
       "   1.6496\n",
       "   0.8845\n",
       "   0.6686\n",
       "   0.5713\n",
       "   0.4919\n",
       "  -0.4420\n",
       "   3.2192\n",
       "  -0.4178\n",
       "   0.0310\n",
       "   0.7007\n",
       "\n",
       "(0 ,0 ,7 ,.,.) = \n",
       "1.00000e-03 *\n",
       "   2.6674\n",
       "  -1.4964\n",
       "   3.4523\n",
       "  -1.6240\n",
       "  -0.4877\n",
       "   1.8780\n",
       "   2.2015\n",
       "   1.4018\n",
       "  -0.8825\n",
       "  -1.2835\n",
       "   0.7362\n",
       "  -1.4173\n",
       "   2.6146\n",
       "  -0.8756\n",
       "  -1.5676\n",
       "   5.0105\n",
       "\n",
       "(0 ,0 ,8 ,.,.) = \n",
       "1.00000e-03 *\n",
       "  -0.3784\n",
       "  -3.5465\n",
       "   1.7903\n",
       "  -0.3417\n",
       "  -1.4393\n",
       "  -0.1108\n",
       "  -1.9371\n",
       "   1.2114\n",
       "   1.4068\n",
       "  -0.4046\n",
       "  -2.0201\n",
       "   0.2461\n",
       "   0.9743\n",
       "  -1.8156\n",
       "   1.6314\n",
       "   0.7479\n",
       "\n",
       "(0 ,0 ,9 ,.,.) = \n",
       "1.00000e-03 *\n",
       "   0.7837\n",
       "  -1.3934\n",
       "  -1.2871\n",
       "  -0.2153\n",
       "   0.4007\n",
       "  -0.7081\n",
       "   0.5920\n",
       "  -0.3616\n",
       "   0.0732\n",
       "   0.9178\n",
       "  -0.5516\n",
       "  -0.8659\n",
       "  -1.0159\n",
       "  -0.0704\n",
       "   0.3286\n",
       "   1.0754\n",
       "[torch.FloatTensor of size 1x1x10x16x1]"
      ]
     },
     "execution_count": 50,
     "metadata": {},
     "output_type": "execute_result"
    }
   ],
   "source": [
    "caps2_output #.index_select(dim=2, index=Variable(labels))"
   ]
  },
  {
   "cell_type": "code",
   "execution_count": 51,
   "metadata": {},
   "outputs": [
    {
     "data": {
      "text/plain": [
       "Variable containing:\n",
       "    0     0     0     0     0     0     0     1     0     0\n",
       "[torch.FloatTensor of size 1x10]"
      ]
     },
     "execution_count": 51,
     "metadata": {},
     "output_type": "execute_result"
    }
   ],
   "source": [
    "y_pred_one_hot = Variable(torch.eye(num_classes).index_select(dim=0, index=y_pred.data))\n",
    "y_pred_one_hot"
   ]
  },
  {
   "cell_type": "code",
   "execution_count": 52,
   "metadata": {
    "collapsed": true
   },
   "outputs": [],
   "source": [
    "mask_with_labels = False # default to use predictions"
   ]
  },
  {
   "cell_type": "code",
   "execution_count": 53,
   "metadata": {},
   "outputs": [
    {
     "data": {
      "text/plain": [
       "Variable containing:\n",
       "(0 ,0 ,0 ,.,.) = \n",
       "  0\n",
       "\n",
       "(0 ,0 ,1 ,.,.) = \n",
       "  0\n",
       "\n",
       "(0 ,0 ,2 ,.,.) = \n",
       "  0\n",
       "\n",
       "(0 ,0 ,3 ,.,.) = \n",
       "  0\n",
       "\n",
       "(0 ,0 ,4 ,.,.) = \n",
       "  0\n",
       "\n",
       "(0 ,0 ,5 ,.,.) = \n",
       "  0\n",
       "\n",
       "(0 ,0 ,6 ,.,.) = \n",
       "  0\n",
       "\n",
       "(0 ,0 ,7 ,.,.) = \n",
       "  1\n",
       "\n",
       "(0 ,0 ,8 ,.,.) = \n",
       "  0\n",
       "\n",
       "(0 ,0 ,9 ,.,.) = \n",
       "  0\n",
       "[torch.FloatTensor of size 1x1x10x1x1]"
      ]
     },
     "execution_count": 53,
     "metadata": {},
     "output_type": "execute_result"
    }
   ],
   "source": [
    "reconstruction_mask = T if mask_with_labels else y_pred_one_hot\n",
    "# T.view(-1, 1, caps2_n_caps, 1, 1) * caps2_output\n",
    "reconstruction_mask_reshaped = reconstruction_mask.view(-1, 1, caps2_n_caps, 1, 1)\n",
    "reconstruction_mask_reshaped"
   ]
  },
  {
   "cell_type": "code",
   "execution_count": 54,
   "metadata": {},
   "outputs": [
    {
     "data": {
      "text/plain": [
       "Variable containing:\n",
       "(0 ,0 ,0 ,.,.) = \n",
       "1.00000e-03 *\n",
       "  -0.0000\n",
       "  -0.0000\n",
       "   0.0000\n",
       "  -0.0000\n",
       "   0.0000\n",
       "  -0.0000\n",
       "  -0.0000\n",
       "   0.0000\n",
       "  -0.0000\n",
       "   0.0000\n",
       "  -0.0000\n",
       "   0.0000\n",
       "   0.0000\n",
       "  -0.0000\n",
       "   0.0000\n",
       "   0.0000\n",
       "\n",
       "(0 ,0 ,1 ,.,.) = \n",
       "1.00000e-03 *\n",
       "  -0.0000\n",
       "   0.0000\n",
       "   0.0000\n",
       "  -0.0000\n",
       "  -0.0000\n",
       "  -0.0000\n",
       "   0.0000\n",
       "   0.0000\n",
       "  -0.0000\n",
       "   0.0000\n",
       "   0.0000\n",
       "  -0.0000\n",
       "  -0.0000\n",
       "   0.0000\n",
       "  -0.0000\n",
       "  -0.0000\n",
       "\n",
       "(0 ,0 ,2 ,.,.) = \n",
       "1.00000e-03 *\n",
       "   0.0000\n",
       "   0.0000\n",
       "   0.0000\n",
       "  -0.0000\n",
       "   0.0000\n",
       "  -0.0000\n",
       "  -0.0000\n",
       "   0.0000\n",
       "  -0.0000\n",
       "  -0.0000\n",
       "   0.0000\n",
       "   0.0000\n",
       "  -0.0000\n",
       "  -0.0000\n",
       "  -0.0000\n",
       "  -0.0000\n",
       "\n",
       "(0 ,0 ,3 ,.,.) = \n",
       "1.00000e-03 *\n",
       "   0.0000\n",
       "  -0.0000\n",
       "   0.0000\n",
       "  -0.0000\n",
       "  -0.0000\n",
       "   0.0000\n",
       "   0.0000\n",
       "   0.0000\n",
       "  -0.0000\n",
       "   0.0000\n",
       "   0.0000\n",
       "   0.0000\n",
       "  -0.0000\n",
       "   0.0000\n",
       "  -0.0000\n",
       "  -0.0000\n",
       "\n",
       "(0 ,0 ,4 ,.,.) = \n",
       "1.00000e-03 *\n",
       "   0.0000\n",
       "   0.0000\n",
       "   0.0000\n",
       "  -0.0000\n",
       "   0.0000\n",
       "  -0.0000\n",
       "  -0.0000\n",
       "  -0.0000\n",
       "   0.0000\n",
       "  -0.0000\n",
       "   0.0000\n",
       "   0.0000\n",
       "   0.0000\n",
       "  -0.0000\n",
       "   0.0000\n",
       "   0.0000\n",
       "\n",
       "(0 ,0 ,5 ,.,.) = \n",
       "1.00000e-03 *\n",
       "   0.0000\n",
       "  -0.0000\n",
       "  -0.0000\n",
       "   0.0000\n",
       "   0.0000\n",
       "   0.0000\n",
       "  -0.0000\n",
       "   0.0000\n",
       "  -0.0000\n",
       "  -0.0000\n",
       "   0.0000\n",
       "  -0.0000\n",
       "   0.0000\n",
       "  -0.0000\n",
       "   0.0000\n",
       "  -0.0000\n",
       "\n",
       "(0 ,0 ,6 ,.,.) = \n",
       "1.00000e-03 *\n",
       "  -0.0000\n",
       "   0.0000\n",
       "   0.0000\n",
       "   0.0000\n",
       "   0.0000\n",
       "   0.0000\n",
       "   0.0000\n",
       "   0.0000\n",
       "   0.0000\n",
       "   0.0000\n",
       "   0.0000\n",
       "  -0.0000\n",
       "   0.0000\n",
       "  -0.0000\n",
       "   0.0000\n",
       "   0.0000\n",
       "\n",
       "(0 ,0 ,7 ,.,.) = \n",
       "1.00000e-03 *\n",
       "   2.6674\n",
       "  -1.4964\n",
       "   3.4523\n",
       "  -1.6240\n",
       "  -0.4877\n",
       "   1.8780\n",
       "   2.2015\n",
       "   1.4018\n",
       "  -0.8825\n",
       "  -1.2835\n",
       "   0.7362\n",
       "  -1.4173\n",
       "   2.6146\n",
       "  -0.8756\n",
       "  -1.5676\n",
       "   5.0105\n",
       "\n",
       "(0 ,0 ,8 ,.,.) = \n",
       "1.00000e-03 *\n",
       "  -0.0000\n",
       "  -0.0000\n",
       "   0.0000\n",
       "  -0.0000\n",
       "  -0.0000\n",
       "  -0.0000\n",
       "  -0.0000\n",
       "   0.0000\n",
       "   0.0000\n",
       "  -0.0000\n",
       "  -0.0000\n",
       "   0.0000\n",
       "   0.0000\n",
       "  -0.0000\n",
       "   0.0000\n",
       "   0.0000\n",
       "\n",
       "(0 ,0 ,9 ,.,.) = \n",
       "1.00000e-03 *\n",
       "   0.0000\n",
       "  -0.0000\n",
       "  -0.0000\n",
       "  -0.0000\n",
       "   0.0000\n",
       "  -0.0000\n",
       "   0.0000\n",
       "  -0.0000\n",
       "   0.0000\n",
       "   0.0000\n",
       "  -0.0000\n",
       "  -0.0000\n",
       "  -0.0000\n",
       "  -0.0000\n",
       "   0.0000\n",
       "   0.0000\n",
       "[torch.FloatTensor of size 1x1x10x16x1]"
      ]
     },
     "execution_count": 54,
     "metadata": {},
     "output_type": "execute_result"
    }
   ],
   "source": [
    "caps2_output_masked = reconstruction_mask_reshaped * caps2_output\n",
    "caps2_output_masked"
   ]
  },
  {
   "cell_type": "code",
   "execution_count": 55,
   "metadata": {},
   "outputs": [
    {
     "data": {
      "text/plain": [
       "Variable containing:\n",
       "\n",
       "Columns 0 to 9 \n",
       "1.00000e-03 *\n",
       " -0.0000 -0.0000  0.0000 -0.0000  0.0000 -0.0000 -0.0000  0.0000 -0.0000  0.0000\n",
       "\n",
       "Columns 10 to 19 \n",
       "1.00000e-03 *\n",
       " -0.0000  0.0000  0.0000 -0.0000  0.0000  0.0000 -0.0000  0.0000  0.0000 -0.0000\n",
       "\n",
       "Columns 20 to 29 \n",
       "1.00000e-03 *\n",
       " -0.0000 -0.0000  0.0000  0.0000 -0.0000  0.0000  0.0000 -0.0000 -0.0000  0.0000\n",
       "\n",
       "Columns 30 to 39 \n",
       "1.00000e-03 *\n",
       " -0.0000 -0.0000  0.0000  0.0000  0.0000 -0.0000  0.0000 -0.0000 -0.0000  0.0000\n",
       "\n",
       "Columns 40 to 49 \n",
       "1.00000e-03 *\n",
       " -0.0000 -0.0000  0.0000  0.0000 -0.0000 -0.0000 -0.0000 -0.0000  0.0000 -0.0000\n",
       "\n",
       "Columns 50 to 59 \n",
       "1.00000e-03 *\n",
       "  0.0000 -0.0000 -0.0000  0.0000  0.0000  0.0000 -0.0000  0.0000  0.0000  0.0000\n",
       "\n",
       "Columns 60 to 69 \n",
       "1.00000e-03 *\n",
       " -0.0000  0.0000 -0.0000 -0.0000  0.0000  0.0000  0.0000 -0.0000  0.0000 -0.0000\n",
       "\n",
       "Columns 70 to 79 \n",
       "1.00000e-03 *\n",
       " -0.0000 -0.0000  0.0000 -0.0000  0.0000  0.0000  0.0000 -0.0000  0.0000  0.0000\n",
       "\n",
       "Columns 80 to 89 \n",
       "1.00000e-03 *\n",
       "  0.0000 -0.0000 -0.0000  0.0000  0.0000  0.0000 -0.0000  0.0000 -0.0000 -0.0000\n",
       "\n",
       "Columns 90 to 99 \n",
       "1.00000e-03 *\n",
       "  0.0000 -0.0000  0.0000 -0.0000  0.0000 -0.0000 -0.0000  0.0000  0.0000  0.0000\n",
       "\n",
       "Columns 100 to 109 \n",
       "1.00000e-03 *\n",
       "  0.0000  0.0000  0.0000  0.0000  0.0000  0.0000  0.0000 -0.0000  0.0000 -0.0000\n",
       "\n",
       "Columns 110 to 119 \n",
       "1.00000e-03 *\n",
       "  0.0000  0.0000  2.6674 -1.4964  3.4523 -1.6240 -0.4877  1.8780  2.2015  1.4018\n",
       "\n",
       "Columns 120 to 129 \n",
       "1.00000e-03 *\n",
       " -0.8825 -1.2835  0.7362 -1.4173  2.6146 -0.8756 -1.5676  5.0105 -0.0000 -0.0000\n",
       "\n",
       "Columns 130 to 139 \n",
       "1.00000e-03 *\n",
       "  0.0000 -0.0000 -0.0000 -0.0000 -0.0000  0.0000  0.0000 -0.0000 -0.0000  0.0000\n",
       "\n",
       "Columns 140 to 149 \n",
       "1.00000e-03 *\n",
       "  0.0000 -0.0000  0.0000  0.0000  0.0000 -0.0000 -0.0000 -0.0000  0.0000 -0.0000\n",
       "\n",
       "Columns 150 to 159 \n",
       "1.00000e-03 *\n",
       "  0.0000 -0.0000  0.0000  0.0000 -0.0000 -0.0000 -0.0000 -0.0000  0.0000  0.0000\n",
       "[torch.FloatTensor of size 1x160]"
      ]
     },
     "execution_count": 55,
     "metadata": {},
     "output_type": "execute_result"
    }
   ],
   "source": [
    "decoder_input = caps2_output_masked.view(-1, caps2_n_caps * caps2_n_dims)\n",
    "decoder_input"
   ]
  },
  {
   "cell_type": "markdown",
   "metadata": {},
   "source": [
    "## Decoder"
   ]
  },
  {
   "cell_type": "code",
   "execution_count": 56,
   "metadata": {
    "collapsed": true
   },
   "outputs": [],
   "source": [
    "n_hidden1 = 512\n",
    "n_hidden2 = 1024\n",
    "n_output = 28 * 28"
   ]
  },
  {
   "cell_type": "code",
   "execution_count": 57,
   "metadata": {},
   "outputs": [
    {
     "data": {
      "text/plain": [
       "Variable containing:\n",
       "\n",
       "Columns 0 to 9 \n",
       " 0.4882  0.5021  0.4890  0.5001  0.4970  0.5050  0.5035  0.5010  0.4928  0.5022\n",
       "\n",
       "Columns 10 to 19 \n",
       " 0.5020  0.4920  0.5079  0.4925  0.4970  0.4975  0.4926  0.4933  0.5067  0.5028\n",
       "\n",
       "Columns 20 to 29 \n",
       " 0.4977  0.4976  0.5062  0.4972  0.5056  0.4944  0.5055  0.5046  0.4973  0.4979\n",
       "\n",
       "Columns 30 to 39 \n",
       " 0.5101  0.5045  0.4958  0.4956  0.4949  0.5034  0.5019  0.5022  0.4927  0.4938\n",
       "\n",
       "Columns 40 to 49 \n",
       " 0.4999  0.5026  0.5050  0.5027  0.5017  0.4962  0.5102  0.5055  0.5013  0.5049\n",
       "\n",
       "Columns 50 to 59 \n",
       " 0.5051  0.5044  0.4978  0.4992  0.4956  0.5029  0.4933  0.4964  0.5022  0.4954\n",
       "\n",
       "Columns 60 to 69 \n",
       " 0.5039  0.4962  0.5075  0.5060  0.4983  0.5030  0.4974  0.4896  0.5034  0.5104\n",
       "\n",
       "Columns 70 to 79 \n",
       " 0.4937  0.4886  0.4894  0.5010  0.5126  0.5010  0.4903  0.5020  0.5044  0.5048\n",
       "\n",
       "Columns 80 to 89 \n",
       " 0.4966  0.4987  0.4932  0.5082  0.4926  0.5087  0.4953  0.4985  0.5015  0.4972\n",
       "\n",
       "Columns 90 to 99 \n",
       " 0.4962  0.4933  0.4992  0.4942  0.5057  0.4897  0.5013  0.4967  0.4954  0.5017\n",
       "\n",
       "Columns 100 to 109 \n",
       " 0.4989  0.5045  0.5096  0.5081  0.4878  0.4903  0.4961  0.5071  0.4919  0.4977\n",
       "\n",
       "Columns 110 to 119 \n",
       " 0.5006  0.4913  0.4992  0.5063  0.5071  0.4998  0.4910  0.4954  0.5031  0.5062\n",
       "\n",
       "Columns 120 to 129 \n",
       " 0.5020  0.5100  0.5040  0.4996  0.5086  0.4905  0.4974  0.5031  0.5079  0.4998\n",
       "\n",
       "Columns 130 to 139 \n",
       " 0.4999  0.5058  0.4986  0.4991  0.5001  0.5012  0.4952  0.5011  0.4972  0.5074\n",
       "\n",
       "Columns 140 to 149 \n",
       " 0.5050  0.5033  0.5025  0.5076  0.4984  0.5008  0.5051  0.4991  0.5098  0.4984\n",
       "\n",
       "Columns 150 to 159 \n",
       " 0.5027  0.4945  0.4974  0.4985  0.4978  0.4969  0.5031  0.4958  0.5005  0.5119\n",
       "\n",
       "Columns 160 to 169 \n",
       " 0.4997  0.5022  0.4979  0.5079  0.4858  0.5109  0.4974  0.4999  0.4995  0.5043\n",
       "\n",
       "Columns 170 to 179 \n",
       " 0.5019  0.5061  0.5056  0.5034  0.4930  0.5031  0.5048  0.4960  0.5007  0.5090\n",
       "\n",
       "Columns 180 to 189 \n",
       " 0.5069  0.5018  0.4905  0.4944  0.4959  0.4931  0.4952  0.4958  0.4932  0.4927\n",
       "\n",
       "Columns 190 to 199 \n",
       " 0.5035  0.4999  0.5019  0.5003  0.5102  0.4941  0.4987  0.4976  0.4987  0.5066\n",
       "\n",
       "Columns 200 to 209 \n",
       " 0.4930  0.4910  0.4963  0.5108  0.4999  0.5033  0.4973  0.5050  0.4933  0.4971\n",
       "\n",
       "Columns 210 to 219 \n",
       " 0.5024  0.5024  0.5001  0.5076  0.4921  0.4998  0.5038  0.5031  0.5048  0.4982\n",
       "\n",
       "Columns 220 to 229 \n",
       " 0.5038  0.5065  0.4974  0.4933  0.4952  0.4905  0.5045  0.4902  0.5002  0.5071\n",
       "\n",
       "Columns 230 to 239 \n",
       " 0.4987  0.5044  0.5032  0.5018  0.4979  0.4944  0.4867  0.4922  0.4991  0.4969\n",
       "\n",
       "Columns 240 to 249 \n",
       " 0.4997  0.4965  0.5026  0.5030  0.4969  0.5058  0.5025  0.5007  0.5039  0.5078\n",
       "\n",
       "Columns 250 to 259 \n",
       " 0.5043  0.4912  0.4975  0.5008  0.5013  0.4902  0.4911  0.5076  0.5054  0.4952\n",
       "\n",
       "Columns 260 to 269 \n",
       " 0.5014  0.4927  0.5029  0.5108  0.4869  0.5015  0.4990  0.4988  0.5017  0.5046\n",
       "\n",
       "Columns 270 to 279 \n",
       " 0.5011  0.4985  0.4894  0.5062  0.4938  0.5020  0.5037  0.5039  0.4889  0.4998\n",
       "\n",
       "Columns 280 to 289 \n",
       " 0.5062  0.4970  0.4993  0.5063  0.4998  0.5049  0.5047  0.4975  0.4971  0.4983\n",
       "\n",
       "Columns 290 to 299 \n",
       " 0.4985  0.5015  0.5048  0.4967  0.4908  0.5002  0.4957  0.5011  0.5005  0.4961\n",
       "\n",
       "Columns 300 to 309 \n",
       " 0.5030  0.5029  0.4912  0.5027  0.4959  0.4995  0.5010  0.4969  0.4989  0.4954\n",
       "\n",
       "Columns 310 to 319 \n",
       " 0.4986  0.4950  0.5007  0.5073  0.5059  0.5070  0.5091  0.5048  0.4950  0.5092\n",
       "\n",
       "Columns 320 to 329 \n",
       " 0.5051  0.4982  0.5055  0.5066  0.4942  0.4996  0.4975  0.5036  0.5034  0.4976\n",
       "\n",
       "Columns 330 to 339 \n",
       " 0.4970  0.5018  0.5001  0.5066  0.4974  0.5011  0.4988  0.4956  0.5012  0.5027\n",
       "\n",
       "Columns 340 to 349 \n",
       " 0.4938  0.4999  0.4902  0.5076  0.5062  0.4967  0.4967  0.4991  0.4937  0.5020\n",
       "\n",
       "Columns 350 to 359 \n",
       " 0.4944  0.4980  0.4875  0.5007  0.4990  0.5052  0.4925  0.5037  0.5059  0.5041\n",
       "\n",
       "Columns 360 to 369 \n",
       " 0.4934  0.4958  0.4991  0.5079  0.5069  0.4963  0.5035  0.5043  0.4970  0.4932\n",
       "\n",
       "Columns 370 to 379 \n",
       " 0.5019  0.4914  0.5027  0.5003  0.4960  0.4940  0.5014  0.5002  0.5104  0.5089\n",
       "\n",
       "Columns 380 to 389 \n",
       " 0.4910  0.4944  0.4986  0.5102  0.4952  0.5053  0.5029  0.4888  0.4922  0.5032\n",
       "\n",
       "Columns 390 to 399 \n",
       " 0.4973  0.5009  0.4992  0.5003  0.4983  0.4958  0.5038  0.4941  0.5041  0.4976\n",
       "\n",
       "Columns 400 to 409 \n",
       " 0.4947  0.4938  0.4939  0.5043  0.5068  0.5033  0.5087  0.4891  0.4942  0.5048\n",
       "\n",
       "Columns 410 to 419 \n",
       " 0.4944  0.5025  0.4996  0.5033  0.4971  0.4940  0.5139  0.5082  0.5042  0.4965\n",
       "\n",
       "Columns 420 to 429 \n",
       " 0.5043  0.4983  0.5005  0.4977  0.4915  0.5007  0.5045  0.4980  0.4904  0.4921\n",
       "\n",
       "Columns 430 to 439 \n",
       " 0.4912  0.5032  0.5006  0.4969  0.5075  0.5012  0.5048  0.5028  0.4972  0.5030\n",
       "\n",
       "Columns 440 to 449 \n",
       " 0.5016  0.5004  0.4866  0.5129  0.5048  0.5018  0.5015  0.4978  0.5042  0.5034\n",
       "\n",
       "Columns 450 to 459 \n",
       " 0.5013  0.4878  0.4911  0.5022  0.4961  0.5011  0.5088  0.4954  0.4961  0.4991\n",
       "\n",
       "Columns 460 to 469 \n",
       " 0.5086  0.4956  0.5055  0.5040  0.4988  0.5005  0.4939  0.5032  0.4894  0.5045\n",
       "\n",
       "Columns 470 to 479 \n",
       " 0.5015  0.4964  0.5005  0.4939  0.5046  0.5042  0.4959  0.5058  0.5000  0.4962\n",
       "\n",
       "Columns 480 to 489 \n",
       " 0.5102  0.4933  0.4974  0.4915  0.4983  0.5007  0.5018  0.4940  0.5034  0.5001\n",
       "\n",
       "Columns 490 to 499 \n",
       " 0.5037  0.4907  0.5008  0.5038  0.5035  0.5086  0.5050  0.5028  0.4897  0.5010\n",
       "\n",
       "Columns 500 to 509 \n",
       " 0.4962  0.5000  0.4930  0.5053  0.5044  0.4964  0.4987  0.5003  0.5045  0.4918\n",
       "\n",
       "Columns 510 to 519 \n",
       " 0.5046  0.4966  0.5043  0.4892  0.4950  0.5040  0.5018  0.5022  0.4994  0.5074\n",
       "\n",
       "Columns 520 to 529 \n",
       " 0.4925  0.4992  0.4945  0.5040  0.5025  0.4955  0.5095  0.5030  0.4932  0.4984\n",
       "\n",
       "Columns 530 to 539 \n",
       " 0.5065  0.4976  0.5090  0.4913  0.4973  0.4956  0.5082  0.5002  0.5051  0.4932\n",
       "\n",
       "Columns 540 to 549 \n",
       " 0.4936  0.5092  0.4913  0.5024  0.5075  0.5034  0.4997  0.4959  0.5070  0.4972\n",
       "\n",
       "Columns 550 to 559 \n",
       " 0.4996  0.5063  0.4999  0.5022  0.4984  0.4991  0.5058  0.5076  0.4945  0.4989\n",
       "\n",
       "Columns 560 to 569 \n",
       " 0.4989  0.4996  0.5065  0.4927  0.5059  0.5031  0.5037  0.5036  0.4978  0.4976\n",
       "\n",
       "Columns 570 to 579 \n",
       " 0.4973  0.5025  0.5125  0.4951  0.4982  0.4976  0.5076  0.4960  0.5000  0.5088\n",
       "\n",
       "Columns 580 to 589 \n",
       " 0.4966  0.4908  0.4936  0.5007  0.5064  0.5088  0.4958  0.4951  0.5073  0.4970\n",
       "\n",
       "Columns 590 to 599 \n",
       " 0.5033  0.4998  0.5091  0.5033  0.5010  0.5094  0.5020  0.4916  0.5050  0.5070\n",
       "\n",
       "Columns 600 to 609 \n",
       " 0.4906  0.4923  0.5059  0.4925  0.4957  0.5018  0.5004  0.4909  0.4968  0.4936\n",
       "\n",
       "Columns 610 to 619 \n",
       " 0.4879  0.4918  0.5081  0.4980  0.4992  0.5011  0.5023  0.4975  0.4993  0.4926\n",
       "\n",
       "Columns 620 to 629 \n",
       " 0.5022  0.4902  0.5070  0.5040  0.5013  0.4895  0.4977  0.5016  0.4996  0.5042\n",
       "\n",
       "Columns 630 to 639 \n",
       " 0.4964  0.4961  0.4979  0.4987  0.4955  0.5119  0.5008  0.4947  0.5008  0.4882\n",
       "\n",
       "Columns 640 to 649 \n",
       " 0.5015  0.5102  0.4976  0.5096  0.4955  0.4976  0.4948  0.4971  0.4959  0.4991\n",
       "\n",
       "Columns 650 to 659 \n",
       " 0.4920  0.5078  0.5026  0.4942  0.5055  0.5024  0.4909  0.4910  0.4973  0.5018\n",
       "\n",
       "Columns 660 to 669 \n",
       " 0.4997  0.4951  0.5025  0.5066  0.4930  0.4969  0.4967  0.5042  0.5010  0.4929\n",
       "\n",
       "Columns 670 to 679 \n",
       " 0.4974  0.5059  0.5093  0.4924  0.5026  0.5112  0.5037  0.4915  0.4988  0.4973\n",
       "\n",
       "Columns 680 to 689 \n",
       " 0.4918  0.5004  0.5016  0.4961  0.5038  0.5043  0.5008  0.4906  0.4927  0.4927\n",
       "\n",
       "Columns 690 to 699 \n",
       " 0.5034  0.5001  0.4918  0.5005  0.4966  0.5023  0.5057  0.5003  0.4921  0.5034\n",
       "\n",
       "Columns 700 to 709 \n",
       " 0.4946  0.5077  0.5025  0.4886  0.5032  0.4897  0.5026  0.4941  0.4972  0.4988\n",
       "\n",
       "Columns 710 to 719 \n",
       " 0.5074  0.5095  0.5024  0.5026  0.5015  0.4980  0.5034  0.5058  0.5096  0.4975\n",
       "\n",
       "Columns 720 to 729 \n",
       " 0.5063  0.5111  0.5073  0.5022  0.5086  0.4932  0.5025  0.5012  0.5060  0.5029\n",
       "\n",
       "Columns 730 to 739 \n",
       " 0.4973  0.4968  0.5044  0.5062  0.5018  0.4886  0.4956  0.4946  0.5025  0.4970\n",
       "\n",
       "Columns 740 to 749 \n",
       " 0.5068  0.5038  0.5057  0.4899  0.5133  0.5085  0.4878  0.5001  0.4953  0.5080\n",
       "\n",
       "Columns 750 to 759 \n",
       " 0.4991  0.4985  0.4926  0.5100  0.4970  0.5051  0.5041  0.4997  0.4984  0.5072\n",
       "\n",
       "Columns 760 to 769 \n",
       " 0.5037  0.5021  0.4916  0.4937  0.4975  0.4985  0.5124  0.4941  0.4942  0.4918\n",
       "\n",
       "Columns 770 to 779 \n",
       " 0.5004  0.4923  0.5082  0.4951  0.4998  0.4895  0.4974  0.5009  0.4936  0.4915\n",
       "\n",
       "Columns 780 to 783 \n",
       " 0.4994  0.5037  0.4961  0.5005\n",
       "[torch.FloatTensor of size 1x784]"
      ]
     },
     "execution_count": 57,
     "metadata": {},
     "output_type": "execute_result"
    }
   ],
   "source": [
    "decoder_output = nn.Sequential(\n",
    "    nn.Linear(caps2_n_caps * caps2_n_dims, n_hidden1),\n",
    "    nn.ReLU(inplace=True),\n",
    "    nn.Linear(n_hidden1, n_hidden2),\n",
    "    nn.ReLU(inplace=True),\n",
    "    nn.Linear(n_hidden2, n_output),\n",
    "    nn.Sigmoid(),\n",
    ")(decoder_input)\n",
    "decoder_output"
   ]
  },
  {
   "cell_type": "code",
   "execution_count": 58,
   "metadata": {},
   "outputs": [
    {
     "name": "stderr",
     "output_type": "stream",
     "text": [
      "/home/derek/anaconda3/envs/pytorch/lib/python3.6/site-packages/torchvision-0.2.0-py3.6.egg/torchvision/transforms/transforms.py:156: UserWarning: The use of the transforms.Scale transform is deprecated, please use transforms.Resize instead.\n"
     ]
    },
    {
     "data": {
      "image/png": "[encoded data removed]",
      "text/plain": [
       "<PIL.Image.Image image mode=L size=144x144 at 0x7F396D271780>"
      ]
     },
     "execution_count": 58,
     "metadata": {},
     "output_type": "execute_result"
    }
   ],
   "source": [
    "from matplotlib import pyplot as plt\n",
    "transforms.Compose([transforms.ToPILImage(), transforms.Scale(144)])(decoder_output.data.view(-1, 28, 28))"
   ]
  },
  {
   "cell_type": "markdown",
   "metadata": {},
   "source": [
    "## Reconstruction Loss"
   ]
  },
  {
   "cell_type": "code",
   "execution_count": 59,
   "metadata": {},
   "outputs": [
    {
     "data": {
      "text/plain": [
       "Variable containing:\n",
       " 183.4392\n",
       "[torch.FloatTensor of size 1]"
      ]
     },
     "execution_count": 59,
     "metadata": {},
     "output_type": "execute_result"
    }
   ],
   "source": [
    "reconstruction_loss = nn.MSELoss(size_average=False)(decoder_output, example_image.view(batch_size,-1))\n",
    "reconstruction_loss"
   ]
  },
  {
   "cell_type": "markdown",
   "metadata": {},
   "source": [
    "## Final Loss"
   ]
  },
  {
   "cell_type": "code",
   "execution_count": 60,
   "metadata": {
    "collapsed": true
   },
   "outputs": [],
   "source": [
    "alpha = 0.0005"
   ]
  },
  {
   "cell_type": "code",
   "execution_count": 61,
   "metadata": {},
   "outputs": [
    {
     "data": {
      "text/plain": [
       "Variable containing:\n",
       " 0.8959\n",
       "[torch.FloatTensor of size 1]"
      ]
     },
     "execution_count": 61,
     "metadata": {},
     "output_type": "execute_result"
    }
   ],
   "source": [
    "loss = margin_loss + alpha * reconstruction_loss\n",
    "loss"
   ]
  },
  {
   "cell_type": "markdown",
   "metadata": {},
   "source": [
    "## Final Touches"
   ]
  },
  {
   "cell_type": "markdown",
   "metadata": {},
   "source": [
    "## Accuracy"
   ]
  },
  {
   "cell_type": "code",
   "execution_count": 62,
   "metadata": {},
   "outputs": [
    {
     "data": {
      "text/plain": [
       "0.0"
      ]
     },
     "execution_count": 62,
     "metadata": {},
     "output_type": "execute_result"
    }
   ],
   "source": [
    "correct = y == y_pred.data.float()\n",
    "torch.mean(correct.float())"
   ]
  },
  {
   "cell_type": "markdown",
   "metadata": {},
   "source": [
    "## Training Operations"
   ]
  },
  {
   "cell_type": "code",
   "execution_count": 63,
   "metadata": {
    "collapsed": true
   },
   "outputs": [],
   "source": [
    "from torch.optim import Adam"
   ]
  },
  {
   "cell_type": "code",
   "execution_count": 64,
   "metadata": {},
   "outputs": [
    {
     "data": {
      "text/plain": [
       "Variable containing:\n",
       " 0.8959\n",
       "[torch.FloatTensor of size 1]"
      ]
     },
     "execution_count": 64,
     "metadata": {},
     "output_type": "execute_result"
    }
   ],
   "source": [
    "# optimizer = Adam()\n",
    "loss.backward()\n",
    "loss"
   ]
  },
  {
   "cell_type": "markdown",
   "metadata": {},
   "source": [
    "## Training"
   ]
  },
  {
   "cell_type": "code",
   "execution_count": 17,
   "metadata": {
    "collapsed": true
   },
   "outputs": [],
   "source": [
    "class PrimaryCapsuleLayer(nn.Module):\n",
    "    \n",
    "    def __init__(self, caps1_n_maps=32, caps1_n_dims=8):\n",
    "        super(PrimaryCapsuleLayer, self).__init__()\n",
    "        self.caps1_n_maps = caps1_n_maps\n",
    "        self.caps1_n_dims = caps1_n_dims\n",
    "        self.caps1_n_caps = caps1_n_maps * 6 * 6 # 1152 primary capsules\n",
    "        \n",
    "        feature_size = caps1_n_maps * caps1_n_dims\n",
    "        self.layer = nn.Sequential(\n",
    "            nn.Conv2d(1, feature_size, kernel_size=9),\n",
    "            nn.BatchNorm2d(feature_size),\n",
    "            nn.ReLU(),\n",
    "            nn.Conv2d(feature_size, feature_size, kernel_size=9, stride=2),\n",
    "            nn.BatchNorm2d(feature_size),\n",
    "            nn.ReLU(),\n",
    "        )\n",
    "        \n",
    "    def squash(self, tensor, dim=-1, epsilon=1e-7):\n",
    "        squared_norm = (tensor ** 2).sum(dim=dim, keepdim=True)\n",
    "        safe_norm = torch.sqrt(squared_norm + epsilon)\n",
    "        scale = squared_norm / (1 + squared_norm)\n",
    "        return scale * tensor / safe_norm\n",
    "    \n",
    "    def forward(self, x):\n",
    "        out = self.layer(x)\n",
    "        out = out.view(-1, self.caps1_n_caps, self.caps1_n_dims)\n",
    "        out = self.squash(out)\n",
    "        return out\n",
    "    \n",
    "class DigitCapsuleLayer(nn.Module):\n",
    "    \n",
    "    init_sigma = 0.01\n",
    "    \n",
    "    def __init__(self, caps1_n_caps=1152, caps1_n_dims=8, caps2_n_caps=10, caps2_n_dims=16):\n",
    "        super(DigitCapsuleLayer, self).__init__()\n",
    "        self.caps2_n_caps = caps2_n_caps\n",
    "        self.caps1_n_caps = caps1_n_caps\n",
    "        W_init = torch.Tensor(1, caps1_n_caps, caps2_n_caps, caps2_n_dims, caps1_n_dims)\n",
    "        W_init.normal_(std=self.init_sigma)\n",
    "        self.w_init = nn.Parameter(W_init).cuda()\n",
    "        \n",
    "    def squash(self, tensor, dim=-1, epsilon=1e-7):\n",
    "        squared_norm = (tensor ** 2).sum(dim=dim, keepdim=True)\n",
    "        safe_norm = torch.sqrt(squared_norm + epsilon)\n",
    "        scale = squared_norm / (1 + squared_norm)\n",
    "        return scale * tensor / safe_norm\n",
    "        \n",
    "    def forward(self, x):\n",
    "        # round 1\n",
    "        x_ = x[:,:,None,:,None].repeat(1,1,10,1,1)\n",
    "        caps2_predicted = self.w_init @ x_\n",
    "        raw_weights = Variable(torch.zeros(1, self.caps1_n_caps, self.caps2_n_caps, 1, 1)).cuda()\n",
    "        routing_weights = F.softmax(raw_weights,dim=2)\n",
    "        weighted_predictions = routing_weights * caps2_predicted\n",
    "        weighted_sum = weighted_predictions.sum(dim=1, keepdim=True)\n",
    "        caps2_output_round_1 = self.squash(weighted_sum, dim=-2)\n",
    "        \n",
    "        # round 2\n",
    "        caps2_output_round_1_tiled = caps2_output_round_1.repeat(1, self.caps1_n_caps, 1, 1, 1)\n",
    "        agreement = caps2_predicted.transpose(-1, -2) @ caps2_output_round_1_tiled\n",
    "        raw_weights_round_2 = raw_weights + agreement\n",
    "        routing_weights_round_2 = F.softmax(raw_weights_round_2,dim=2)\n",
    "        weighted_predictions_round_2 = routing_weights_round_2 * caps2_predicted\n",
    "        weighted_sum_round_2 = weighted_predictions_round_2.sum(dim=1, keepdim=True)\n",
    "        caps2_output_round_2 = self.squash(weighted_sum_round_2, dim=-2)\n",
    "        caps2_output = caps2_output_round_2\n",
    "        return caps2_output"
   ]
  },
  {
   "cell_type": "code",
   "execution_count": 21,
   "metadata": {
    "collapsed": true
   },
   "outputs": [],
   "source": [
    "class CapsuleNet(nn.Module):\n",
    "    def __init__(self, caps2_n_caps=10, caps2_n_dims=16):\n",
    "        super(CapsuleNet, self).__init__()\n",
    "        self.primary_capsules = PrimaryCapsuleLayer()\n",
    "        self.digit_capsules = DigitCapsuleLayer()\n",
    "        self.caps2_n_caps = caps2_n_caps\n",
    "        self.caps2_n_dims = caps2_n_dims\n",
    "        self.decoder = nn.Sequential(\n",
    "            nn.Linear(16 * num_classes, 512),\n",
    "            nn.ReLU(inplace=True),\n",
    "            nn.Linear(512, 1024),\n",
    "            nn.ReLU(inplace=True),\n",
    "            nn.Linear(1024, 784),\n",
    "            nn.Sigmoid()\n",
    "        )\n",
    "        \n",
    "    def forward(self, x, labels):\n",
    "        out = self.primary_capsules(x)\n",
    "        caps2_output = self.digit_capsules(out)\n",
    "        \n",
    "        def safe_norm(tensor, dim=-1, epsilon=1e-7, keepdim=False):\n",
    "            squared_norm = (tensor ** 2).sum(dim=dim, keepdim=True)\n",
    "            return torch.sqrt(squared_norm + epsilon)\n",
    "\n",
    "        y_proba = safe_norm(caps2_output, dim=-2)\n",
    "        y_proba_argmax = torch.max(y_proba, dim=2)[1]\n",
    "        y_pred = torch.squeeze(y_proba_argmax)\n",
    "        \n",
    "#         m_plus = 0.9\n",
    "#         m_minus = 0.1\n",
    "#         lambda_ = 0.5\n",
    "\n",
    "        T = Variable(torch.eye(num_classes).index_select(dim=0, index=labels)).cuda()\n",
    "#         caps2_output_norm = safe_norm(caps2_output, dim=-2, keepdim=True)\n",
    "\n",
    "#         present_error_raw = F.relu(m_plus - caps2_output_norm, inplace=True) ** 2\n",
    "#         present_error = present_error_raw.view(-1, 10)\n",
    "\n",
    "#         absent_error_raw = F.relu(caps2_output_norm - m_minus, inplace=True) ** 2\n",
    "#         absent_error = absent_error_raw.view(-1, 10)\n",
    "\n",
    "#         L = T * present_error + lambda_ * (1. - T) * absent_error\n",
    "\n",
    "#         margin_loss = torch.mean(torch.sum(L))\n",
    "        \n",
    "        y_pred_one_hot = Variable(torch.eye(num_classes).index_select(dim=0, index=y_pred.cpu().data)).cuda()\n",
    "        mask_with_labels = self.training # default to use predictions\n",
    "\n",
    "        reconstruction_mask = T if mask_with_labels else y_pred_one_hot\n",
    "        reconstruction_mask_reshaped = reconstruction_mask.view(-1, 1, self.caps2_n_caps, 1, 1)\n",
    "\n",
    "        caps2_output_masked = reconstruction_mask_reshaped * caps2_output\n",
    "        decoder_input = caps2_output_masked.view(-1, self.caps2_n_caps * self.caps2_n_dims)\n",
    "\n",
    "        n_hidden1 = 512\n",
    "        n_hidden2 = 1024\n",
    "        n_output = 28 * 28\n",
    "\n",
    "#         decoder_output = nn.Sequential(\n",
    "#             nn.Linear(caps2_n_caps * caps2_n_dims, n_hidden1),\n",
    "#             nn.ReLU(inplace=True),\n",
    "#             nn.Linear(n_hidden1, n_hidden2),\n",
    "#             nn.ReLU(inplace=True),\n",
    "#             nn.Linear(n_hidden2, n_output),\n",
    "#             nn.Sigmoid(),\n",
    "#         )(decoder_input)\n",
    "        decoder_output = self.decoder(decoder_input)\n",
    "\n",
    "#         reconstruction_loss = self.reconstruction_loss(decoder_output, x.view(batch_size,-1))\n",
    "\n",
    "#         alpha = 0.0005\n",
    "\n",
    "#         loss = margin_loss + alpha * reconstruction_loss\n",
    "#         return loss\n",
    "        return caps2_output, y_pred, decoder_output\n",
    "    \n",
    "class CapsuleLoss(nn.Module):\n",
    "    def __init__(self):\n",
    "        super(CapsuleLoss, self).__init__()\n",
    "        self.reconstruction_loss = nn.MSELoss(size_average=False)\n",
    "    \n",
    "    def forward(self, x, labels, caps2_output, y_pred, decoder_output):\n",
    "        m_plus = 0.9\n",
    "        m_minus = 0.1\n",
    "        lambda_ = 0.5\n",
    "        \n",
    "        def safe_norm(tensor, dim=-1, epsilon=1e-7, keepdim=False):\n",
    "            squared_norm = (tensor ** 2).sum(dim=dim, keepdim=True)\n",
    "            return torch.sqrt(squared_norm + epsilon)\n",
    "\n",
    "        T = Variable(torch.eye(num_classes).index_select(dim=0, index=labels)).cuda()\n",
    "        caps2_output_norm = safe_norm(caps2_output, dim=-2, keepdim=True)\n",
    "\n",
    "        present_error_raw = F.relu(m_plus - caps2_output_norm, inplace=True) ** 2\n",
    "        present_error = present_error_raw.view(-1, 10)\n",
    "\n",
    "        absent_error_raw = F.relu(caps2_output_norm - m_minus, inplace=True) ** 2\n",
    "        absent_error = absent_error_raw.view(-1, 10)\n",
    "\n",
    "        L = T * present_error + lambda_ * (1. - T) * absent_error\n",
    "\n",
    "        margin_loss = torch.mean(torch.sum(L))\n",
    "        \n",
    "        reconstruction_loss = self.reconstruction_loss(decoder_output, x.view(batch_size,-1))\n",
    "\n",
    "        alpha = 0.0005\n",
    "\n",
    "        loss = margin_loss + alpha * reconstruction_loss\n",
    "        return loss\n",
    "    "
   ]
  },
  {
   "cell_type": "code",
   "execution_count": 22,
   "metadata": {},
   "outputs": [
    {
     "data": {
      "text/plain": [
       "<bound method Module.parameters of CapsuleNet(\n",
       "  (primary_capsules): PrimaryCapsuleLayer(\n",
       "    (layer): Sequential(\n",
       "      (0): Conv2d (1, 256, kernel_size=(9, 9), stride=(1, 1))\n",
       "      (1): BatchNorm2d(256, eps=1e-05, momentum=0.1, affine=True)\n",
       "      (2): ReLU()\n",
       "      (3): Conv2d (256, 256, kernel_size=(9, 9), stride=(2, 2))\n",
       "      (4): BatchNorm2d(256, eps=1e-05, momentum=0.1, affine=True)\n",
       "      (5): ReLU()\n",
       "    )\n",
       "  )\n",
       "  (digit_capsules): DigitCapsuleLayer(\n",
       "  )\n",
       "  (decoder): Sequential(\n",
       "    (0): Linear(in_features=160, out_features=512)\n",
       "    (1): ReLU(inplace)\n",
       "    (2): Linear(in_features=512, out_features=1024)\n",
       "    (3): ReLU(inplace)\n",
       "    (4): Linear(in_features=1024, out_features=784)\n",
       "    (5): Sigmoid()\n",
       "  )\n",
       ")>"
      ]
     },
     "execution_count": 22,
     "metadata": {},
     "output_type": "execute_result"
    }
   ],
   "source": [
    "from torch.optim import Adam\n",
    "\n",
    "model = CapsuleNet()\n",
    "model.cuda()\n",
    "criterion = CapsuleLoss().cuda()\n",
    "optimizer = Adam(model.parameters())\n",
    "\n",
    "model.parameters"
   ]
  },
  {
   "cell_type": "code",
   "execution_count": 48,
   "metadata": {
    "collapsed": true
   },
   "outputs": [],
   "source": [
    "data_iter = iter(train_loader)\n",
    "\n",
    "# for _ in range(5):\n",
    "#     images, labels = data_iter.next()\n",
    "#     images = Variable(images).cuda()\n",
    "#     labels = labels\n",
    "\n",
    "#     # Forward + Backward + Optimize\n",
    "#     optimizer.zero_grad()\n",
    "#     caps2_output, y_pred, decoder_output = model(images, labels)\n",
    "#     loss = CapsuleLoss()(images, labels, caps2_output, y_pred, decoder_output)\n",
    "#     loss.backward()\n",
    "#     optimizer.step()"
   ]
  },
  {
   "cell_type": "code",
   "execution_count": 14,
   "metadata": {},
   "outputs": [
    {
     "name": "stdout",
     "output_type": "stream",
     "text": [
      "Epoch [1/5], Iter [3750/3750] Loss: 0.6020\n",
      "Epoch [2/5], Iter [3750/3750] Loss: 0.3940\n",
      "Epoch [3/5], Iter [3750/3750] Loss: 0.2034\n",
      "Epoch [4/5], Iter [3750/3750] Loss: 0.1927\n",
      "Epoch [5/5], Iter [3750/3750] Loss: 0.1587\n"
     ]
    }
   ],
   "source": [
    "num_epochs = 5\n",
    "for epoch in range(num_epochs):\n",
    "    for i, (images, labels) in enumerate(train_loader):\n",
    "        images = Variable(images).cuda()\n",
    "        labels = labels\n",
    "\n",
    "        # Forward + Backward + Optimize\n",
    "        optimizer.zero_grad()\n",
    "        caps2_output, y_pred, decoder_output = model(images, labels)\n",
    "        loss = criterion(images, labels, caps2_output, y_pred, decoder_output)\n",
    "        loss.backward()\n",
    "        optimizer.step()\n",
    "    print ('Epoch [%d/%d], Iter [%d/%d] Loss: %.4f' \n",
    "       %(epoch+1, num_epochs, i+1, len(train_dataset)//batch_size, loss.data[0]))"
   ]
  },
  {
   "cell_type": "code",
   "execution_count": 49,
   "metadata": {},
   "outputs": [],
   "source": [
    "images, labels = data_iter.next()\n",
    "images = Variable(images).cuda()\n",
    "labels = labels"
   ]
  },
  {
   "cell_type": "code",
   "execution_count": 50,
   "metadata": {},
   "outputs": [
    {
     "data": {
      "image/png": "[encoded data removed]",
      "text/plain": [
       "<matplotlib.figure.Figure at 0x7f46d5045828>"
      ]
     },
     "metadata": {},
     "output_type": "display_data"
    },
    {
     "data": {
      "image/png": "[encoded data removed]",
      "text/plain": [
       "<matplotlib.figure.Figure at 0x7f46d504d3c8>"
      ]
     },
     "metadata": {},
     "output_type": "display_data"
    }
   ],
   "source": [
    "caps2_output, y_pred, decoder_output = model(images, labels)\n",
    "reshaped_images = images.cpu().data.numpy().reshape(-1, 28, 28)\n",
    "reconstructions = decoder_output.view(-1,28,28).cpu().data.numpy()\n",
    "\n",
    "plt.figure(figsize=(n_samples * 2, 3))\n",
    "for index in range(n_samples):\n",
    "    plt.subplot(1, n_samples, index + 1)\n",
    "    plt.imshow(reshaped_images[index], cmap=\"binary\")\n",
    "    plt.title(\"Label:\" + str(labels[index]))\n",
    "    plt.axis(\"off\")\n",
    "\n",
    "plt.show()\n",
    "\n",
    "plt.figure(figsize=(n_samples * 2, 3))\n",
    "for index in range(n_samples):\n",
    "    plt.subplot(1, n_samples, index + 1)\n",
    "    plt.title(\"Predicted:\" + str(int(y_pred[index])))\n",
    "    plt.imshow(reconstructions[index], cmap=\"binary\")\n",
    "    plt.axis(\"off\")\n",
    "    \n",
    "plt.show()"
   ]
  },
  {
   "cell_type": "markdown",
   "metadata": {
    "collapsed": true
   },
   "source": [
    "## Training with Ignite"
   ]
  },
  {
   "cell_type": "code",
   "execution_count": 12,
   "metadata": {
    "collapsed": true
   },
   "outputs": [],
   "source": [
    "from ignite.trainer import Trainer, TrainingEvents\n",
    "import logging\n",
    "from ignite.handlers.logging import log_training_simple_moving_average"
   ]
  },
  {
   "cell_type": "code",
   "execution_count": 13,
   "metadata": {
    "collapsed": true
   },
   "outputs": [],
   "source": [
    "# logger = logging.getLogger('ignite')\n",
    "# logger.handlers = []\n",
    "# handler = logging.StreamHandler()\n",
    "# logger.addHandler(handler)\n",
    "# logger.setLevel(logging.INFO)\n",
    "logger = print"
   ]
  },
  {
   "cell_type": "code",
   "execution_count": 44,
   "metadata": {
    "collapsed": true
   },
   "outputs": [],
   "source": [
    "def get_log_validation_loss_and_accuracy_handler(logger):\n",
    "    def log_validation_loss_and_accuracy(trainer):\n",
    "        len_dataset = len(trainer.validation_data.dataset)\n",
    "        num_batches = int(len_dataset / batch_size)\n",
    "        avg_loss = np.mean([loss for (loss, accuracy) in trainer.validation_history[-num_batches:]])\n",
    "        accuracy = sum([accuracy for (loss, accuracy) in trainer.validation_history[-num_batches:]])\n",
    "        logger('\\nValidation set: Average loss: {:.4f}, Accuracy: {}/{} ({:.0f}%)\\n'.format(\n",
    "            avg_loss, accuracy, len_dataset,\n",
    "            (accuracy * 100.) / len_dataset,\n",
    "        ))\n",
    "    return log_validation_loss_and_accuracy"
   ]
  },
  {
   "cell_type": "code",
   "execution_count": 45,
   "metadata": {},
   "outputs": [
    {
     "name": "stdout",
     "output_type": "stream",
     "text": [
      "Training Epoch[0/5] Iteration[500/3750 (13.33%)]\tCapsule Loss Simple Moving Average: 1.7493\n",
      "Training Epoch[0/5] Iteration[1000/3750 (26.67%)]\tCapsule Loss Simple Moving Average: 1.7007\n",
      "Training Epoch[0/5] Iteration[1500/3750 (40.00%)]\tCapsule Loss Simple Moving Average: 1.7355\n",
      "Training Epoch[0/5] Iteration[2000/3750 (53.33%)]\tCapsule Loss Simple Moving Average: 1.7894\n",
      "Training Epoch[0/5] Iteration[2500/3750 (66.67%)]\tCapsule Loss Simple Moving Average: 1.7963\n",
      "Training Epoch[0/5] Iteration[3000/3750 (80.00%)]\tCapsule Loss Simple Moving Average: 1.7811\n",
      "Training Epoch[0/5] Iteration[3500/3750 (93.33%)]\tCapsule Loss Simple Moving Average: 1.8114\n",
      "\n",
      "Validation set: Average loss: 1.9190, Accuracy: 9793/10000 (98%)\n",
      "\n",
      "Training Epoch[1/5] Iteration[250/3750 (6.67%)]\tCapsule Loss Simple Moving Average: 1.7399\n",
      "Training Epoch[1/5] Iteration[750/3750 (20.00%)]\tCapsule Loss Simple Moving Average: 1.6607\n",
      "Training Epoch[1/5] Iteration[1250/3750 (33.33%)]\tCapsule Loss Simple Moving Average: 1.7328\n",
      "Training Epoch[1/5] Iteration[1750/3750 (46.67%)]\tCapsule Loss Simple Moving Average: 1.6807\n",
      "Training Epoch[1/5] Iteration[2250/3750 (60.00%)]\tCapsule Loss Simple Moving Average: 1.7339\n",
      "Training Epoch[1/5] Iteration[2750/3750 (73.33%)]\tCapsule Loss Simple Moving Average: 1.7140\n",
      "Training Epoch[1/5] Iteration[3250/3750 (86.67%)]\tCapsule Loss Simple Moving Average: 1.8026\n",
      "Training Epoch[1/5] Iteration[0/3750 (0.00%)]\tCapsule Loss Simple Moving Average: 1.7500\n",
      "\n",
      "Validation set: Average loss: 1.9088, Accuracy: 9803/10000 (98%)\n",
      "\n",
      "Training Epoch[2/5] Iteration[500/3750 (13.33%)]\tCapsule Loss Simple Moving Average: 1.6902\n",
      "Training Epoch[2/5] Iteration[1000/3750 (26.67%)]\tCapsule Loss Simple Moving Average: 1.6820\n",
      "Training Epoch[2/5] Iteration[1500/3750 (40.00%)]\tCapsule Loss Simple Moving Average: 1.6433\n",
      "Training Epoch[2/5] Iteration[2000/3750 (53.33%)]\tCapsule Loss Simple Moving Average: 1.7739\n",
      "Training Epoch[2/5] Iteration[2500/3750 (66.67%)]\tCapsule Loss Simple Moving Average: 1.7129\n",
      "Training Epoch[2/5] Iteration[3000/3750 (80.00%)]\tCapsule Loss Simple Moving Average: 1.7102\n",
      "Training Epoch[2/5] Iteration[3500/3750 (93.33%)]\tCapsule Loss Simple Moving Average: 1.6894\n",
      "\n",
      "Validation set: Average loss: 1.9003, Accuracy: 9792/10000 (98%)\n",
      "\n",
      "Training Epoch[3/5] Iteration[250/3750 (6.67%)]\tCapsule Loss Simple Moving Average: 1.6141\n",
      "Training Epoch[3/5] Iteration[750/3750 (20.00%)]\tCapsule Loss Simple Moving Average: 1.6095\n",
      "Training Epoch[3/5] Iteration[1250/3750 (33.33%)]\tCapsule Loss Simple Moving Average: 1.6832\n",
      "Training Epoch[3/5] Iteration[1750/3750 (46.67%)]\tCapsule Loss Simple Moving Average: 1.6798\n",
      "Training Epoch[3/5] Iteration[2250/3750 (60.00%)]\tCapsule Loss Simple Moving Average: 1.6560\n",
      "Training Epoch[3/5] Iteration[2750/3750 (73.33%)]\tCapsule Loss Simple Moving Average: 1.7562\n",
      "Training Epoch[3/5] Iteration[3250/3750 (86.67%)]\tCapsule Loss Simple Moving Average: 1.7492\n",
      "Training Epoch[3/5] Iteration[0/3750 (0.00%)]\tCapsule Loss Simple Moving Average: 1.6421\n",
      "\n",
      "Validation set: Average loss: 1.8797, Accuracy: 9799/10000 (98%)\n",
      "\n",
      "Training Epoch[4/5] Iteration[500/3750 (13.33%)]\tCapsule Loss Simple Moving Average: 1.6225\n",
      "Training Epoch[4/5] Iteration[1000/3750 (26.67%)]\tCapsule Loss Simple Moving Average: 1.6364\n",
      "Training Epoch[4/5] Iteration[1500/3750 (40.00%)]\tCapsule Loss Simple Moving Average: 1.6159\n",
      "Training Epoch[4/5] Iteration[2000/3750 (53.33%)]\tCapsule Loss Simple Moving Average: 1.6433\n",
      "Training Epoch[4/5] Iteration[2500/3750 (66.67%)]\tCapsule Loss Simple Moving Average: 1.6326\n",
      "Training Epoch[4/5] Iteration[3000/3750 (80.00%)]\tCapsule Loss Simple Moving Average: 1.5851\n",
      "Training Epoch[4/5] Iteration[3500/3750 (93.33%)]\tCapsule Loss Simple Moving Average: 1.6700\n",
      "\n",
      "Validation set: Average loss: 1.8793, Accuracy: 9797/10000 (98%)\n",
      "\n"
     ]
    }
   ],
   "source": [
    "def get_training_function(is_training=False):\n",
    "    def training_update_function(batch):\n",
    "        if is_training:\n",
    "            model.train()\n",
    "        else:\n",
    "            model.eval()\n",
    "        optimizer.zero_grad()\n",
    "        images, labels = Variable(batch[0]).cuda(), batch[1]\n",
    "        caps2_output, y_pred, decoder_output = model(images, labels)\n",
    "        loss = criterion(images, labels, caps2_output, y_pred, decoder_output)\n",
    "        if is_training:\n",
    "            loss.backward()\n",
    "            optimizer.step()\n",
    "            return loss.data[0]\n",
    "        else:\n",
    "            correct = y_pred.data.cpu().eq(labels.view_as(y_pred)).sum()\n",
    "            return loss.data[0], correct\n",
    "    return training_update_function\n",
    "\n",
    "# def training_update_function(batch):\n",
    "#     model.train()\n",
    "#     optimizer.zero_grad()\n",
    "#     images, labels = Variable(batch[0]).cuda(), batch[1]\n",
    "#     caps2_output, y_pred, decoder_output = model(images, labels)\n",
    "#     loss = criterion(images, labels, caps2_output, y_pred, decoder_output)\n",
    "#     correct = y_pred.data.cpu().eq(labels.view_as(y_pred)).sum()\n",
    "#     loss.backward()\n",
    "#     optimizer.step()\n",
    "#     return loss.data[0], correct\n",
    "\n",
    "# def val_update_function(batch):\n",
    "#     model.eval()\n",
    "#     optimizer.zero_grad()\n",
    "#     images, labels = Variable(batch[0]).cuda(), batch[1]\n",
    "#     caps2_output, y_pred, decoder_output = model(images, labels)\n",
    "#     loss = criterion(images, labels, caps2_output, y_pred, decoder_output)\n",
    "#     correct = y_pred.data.cpu().eq(labels.view_as(y_pred)).sum()\n",
    "#     return loss.data[0], correct\n",
    "\n",
    "\n",
    "trainer = Trainer(\n",
    "    train_loader, \n",
    "    get_training_function(True), \n",
    "    validation_data=test_loader, \n",
    "    validation_inference_function=get_training_function(),\n",
    ")\n",
    "trainer.add_event_handler(TrainingEvents.VALIDATION_COMPLETED, get_log_validation_loss_and_accuracy_handler(logger))\n",
    "trainer.add_event_handler(\n",
    "    TrainingEvents.TRAINING_ITERATION_COMPLETED,\n",
    "    log_training_simple_moving_average,\n",
    "    window_size=100,\n",
    "    metric_name=\"Capsule Loss\",\n",
    "    should_log=lambda trainer: trainer.current_iteration % 500 == 0,\n",
    "    logger=logger,\n",
    ")\n",
    "trainer.run(max_epochs=5, validate_every_epoch=True)"
   ]
  },
  {
   "cell_type": "code",
   "execution_count": 13,
   "metadata": {
    "collapsed": true
   },
   "outputs": [],
   "source": [
    "torch.cuda.empty_cache()"
   ]
  },
  {
   "cell_type": "code",
   "execution_count": 14,
   "metadata": {
    "collapsed": true
   },
   "outputs": [],
   "source": [
    "images, labels = iter(test_loader).next()"
   ]
  },
  {
   "cell_type": "code",
   "execution_count": 15,
   "metadata": {
    "collapsed": true,
    "scrolled": true
   },
   "outputs": [],
   "source": [
    "images = Variable(images).cuda()"
   ]
  },
  {
   "cell_type": "code",
   "execution_count": 16,
   "metadata": {
    "collapsed": true
   },
   "outputs": [],
   "source": [
    "caps2_output, y_pred, decoder_output = model(images, labels)"
   ]
  },
  {
   "cell_type": "code",
   "execution_count": 20,
   "metadata": {},
   "outputs": [
    {
     "data": {
      "text/plain": [
       "4"
      ]
     },
     "execution_count": 20,
     "metadata": {},
     "output_type": "execute_result"
    }
   ],
   "source": [
    "y_pred.data.cpu().eq(labels.view_as(y_pred)).sum()"
   ]
  }
 ],
 "metadata": {
  "kernelspec": {
   "display_name": "Python 3",
   "language": "python",
   "name": "python3"
  },
  "language_info": {
   "codemirror_mode": {
    "name": "ipython",
    "version": 3
   },
   "file_extension": ".py",
   "mimetype": "text/x-python",
   "name": "python",
   "nbconvert_exporter": "python",
   "pygments_lexer": "ipython3",
   "version": "3.6.2"
  }
 },
 "nbformat": 4,
 "nbformat_minor": 2
}
